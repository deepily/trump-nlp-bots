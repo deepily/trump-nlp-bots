{
 "cells": [
  {
   "cell_type": "code",
   "execution_count": 1,
   "metadata": {},
   "outputs": [],
   "source": [
    "from wordsegment import load, segment"
   ]
  },
  {
   "cell_type": "code",
   "execution_count": 1,
   "metadata": {},
   "outputs": [
    {
     "name": "stdout",
     "output_type": "stream",
     "text": [
      "['damac', 'obamasfavoritecharity', 'pearlharbor', 'tcot', 'trumpchicago', 'teaminfinity', 'ocarenightmare', 'supersaturday', 'prstrong', 'momoneymoproblems']\n"
     ]
    }
   ],
   "source": [
    "# read and strip trailing '\\n' https://viewsby.wordpress.com/2014/08/28/python-remove-newline-from-readlines/\n",
    "with open( 'hashtags/hashtag-list-take-I.txt', 'r' ) as hashtag_file:\n",
    "    \n",
    "    #hashtags = hashtag_file.readlines()\n",
    "    hashtags = hashtag_file.read().splitlines()\n",
    "\n",
    "print( hashtags[ 0:10 ] )"
   ]
  },
  {
   "cell_type": "code",
   "execution_count": null,
   "metadata": {},
   "outputs": [],
   "source": [
    "hashtag_dict = {}\n"
   ]
  },
  {
   "cell_type": "code",
   "execution_count": 3,
   "metadata": {},
   "outputs": [],
   "source": [
    "load()"
   ]
  },
  {
   "cell_type": "code",
   "execution_count": 11,
   "metadata": {},
   "outputs": [
    {
     "data": {
      "text/plain": [
       "['hesitating', 'therefore']"
      ]
     },
     "execution_count": 11,
     "metadata": {},
     "output_type": "execute_result"
    }
   ],
   "source": [
    "segment( 'hesitatingtherefore' )"
   ]
  },
  {
   "cell_type": "code",
   "execution_count": 7,
   "metadata": {},
   "outputs": [
    {
     "name": "stdout",
     "output_type": "stream",
     "text": [
      "['the', 'daily', 'show']\n",
      "['npc', 'lunch']\n",
      "['st', 'patricks', 'day']\n",
      "['workforce', 'week']\n",
      "['trump', 'rally', 'tickets']\n",
      "['i', 'a', 'caucus']\n",
      "['law', 'enforcement', 'appreciation', 'day', 'president']\n",
      "['isis']\n",
      "['puerto', 'rico']\n",
      "['uss', 'arizona']\n"
     ]
    }
   ],
   "source": [
    "for hashtag in hashtags[ 10:20 ]:\n",
    "    \n",
    "    print( segment( hashtag ) )"
   ]
  },
  {
   "cell_type": "code",
   "execution_count": 10,
   "metadata": {},
   "outputs": [
    {
     "name": "stdout",
     "output_type": "stream",
     "text": [
      "word.isupper() False\n",
      "word.islower() False\n",
      "word is mixed True\n"
     ]
    }
   ],
   "source": [
    "word = \"AmazonWashingtonPost\"\n",
    "print( \"word.isupper()\", word.isupper() )\n",
    "print( \"word.islower()\", word.islower() )\n",
    "print( \"word is mixed\", ( not word.isupper() and not word.islower() ) )"
   ]
  },
  {
   "cell_type": "code",
   "execution_count": 13,
   "metadata": {},
   "outputs": [
    {
     "name": "stdout",
     "output_type": "stream",
     "text": [
      "True\n",
      "False\n"
     ]
    }
   ],
   "source": [
    "print( all( ord(char) < 128 for char in 'string' ) )\n",
    "print( all( ord(char) < 128 for char in 'António' ) )"
   ]
  },
  {
   "cell_type": "code",
   "execution_count": null,
   "metadata": {},
   "outputs": [],
   "source": []
  }
 ],
 "metadata": {
  "kernelspec": {
   "display_name": "Python 3",
   "language": "python",
   "name": "python3"
  },
  "language_info": {
   "codemirror_mode": {
    "name": "ipython",
    "version": 3
   },
   "file_extension": ".py",
   "mimetype": "text/x-python",
   "name": "python",
   "nbconvert_exporter": "python",
   "pygments_lexer": "ipython3",
   "version": "3.6.4"
  }
 },
 "nbformat": 4,
 "nbformat_minor": 2
}
