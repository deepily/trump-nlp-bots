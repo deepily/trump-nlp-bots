{
 "cells": [
  {
   "cell_type": "markdown",
   "metadata": {},
   "source": [
    "### Based on: https://machinelearningmastery.com/use-word-embedding-layers-deep-learning-keras/ and https://machinelearningmastery.com/how-to-develop-a-word-level-neural-language-model-in-keras/ and https://github.com/stanfordnlp/GloVe"
   ]
  },
  {
   "cell_type": "code",
   "execution_count": 4,
   "metadata": {},
   "outputs": [
    {
     "name": "stdout",
     "output_type": "stream",
     "text": [
      "2018.05.21 10:47\n",
      "Time to process: [1] seconds\n"
     ]
    }
   ],
   "source": [
    "#import time\n",
    "import datetime\n",
    "import string\n",
    "from pickle import dump\n",
    "from keras.preprocessing.text import Tokenizer\n",
    "from keras.utils import to_categorical\n",
    "from keras.models import Sequential\n",
    "from keras.layers import Dense\n",
    "from keras.layers import LSTM\n",
    "from keras.layers import Embedding\n",
    "\n",
    "import numpy as np\n",
    "\n",
    "from random import randint\n",
    "from keras.preprocessing.sequence import pad_sequences\n",
    "\n",
    "def get_time( output=True ):\n",
    "    \n",
    "    temp = time.time()\n",
    "    if output:\n",
    "        now = datetime.datetime.now()\n",
    "        print( now.strftime( \"%Y.%m.%d %H:%M\" ) )\n",
    "        \n",
    "    return temp\n",
    "\n",
    "foo = get_time()\n",
    "\n",
    "def print_time( start_time, end_time, interval=\"seconds\" ):\n",
    "    \n",
    "    if interval == \"hours\":\n",
    "        print ( \"Time to process: [%s] hours\" % ( str( ( end_time - start_time ) / 60 / 60 ) ) )\n",
    "    else:\n",
    "        print ( \"Time to process: [%s] seconds\" % ( str( end_time - start_time ) ) )\n",
    "\n",
    "print_time( 0, 1 )"
   ]
  },
  {
   "cell_type": "code",
   "execution_count": 5,
   "metadata": {},
   "outputs": [
    {
     "name": "stdout",
     "output_type": "stream",
     "text": [
      "﻿SPEECH 1\n",
      "\n",
      "\n",
      "...Thank you so much.  That's so nice.  Isn't he a great guy.  He doesn't get a fair press; he doesn't get it.  It's just not fair.  And I have to tell you I'm here, and very strongly here\n"
     ]
    }
   ],
   "source": [
    "# load doc into memory\n",
    "def load_doc( filename ):\n",
    "    \n",
    "    # open the file as read only\n",
    "    file = open( filename, 'r' )\n",
    "    # read all text\n",
    "    text = file.read()\n",
    "    # close the file\n",
    "    file.close()\n",
    "    \n",
    "    return text\n",
    "\n",
    "# load document\n",
    "#in_filename = \"../texts/alice-in-wonderland.txt\"\n",
    "#in_filename = \"../texts/dr-zeuss-compilation.txt\"\n",
    "in_filename = \"../texts/trump-speeches.txt\"\n",
    "doc = load_doc( in_filename )\n",
    "print( doc[ :200 ] )"
   ]
  },
  {
   "cell_type": "code",
   "execution_count": 13,
   "metadata": {},
   "outputs": [
    {
     "data": {
      "text/plain": [
       "'\"#$%&\\'()*+,-/:;<=>@[\\\\]^_`{|}~'"
      ]
     },
     "execution_count": 13,
     "metadata": {},
     "output_type": "execute_result"
    }
   ],
   "source": [
    "# my_punctuation = string.punctuation\n",
    "# print( type( my_punctuation ) )\n",
    "# print( my_punctuation )\n",
    "my_punctuation = '\"#$%&\\'()*+,-/:;<=>@[\\\\]^_`{|}~'\n",
    "my_punctuation"
   ]
  },
  {
   "cell_type": "code",
   "execution_count": 18,
   "metadata": {},
   "outputs": [],
   "source": [
    "# turn a doc into clean tokens\n",
    "def clean_doc( doc, to_lower=True ):\n",
    "    \n",
    "    # replace '--' with a space ' '\n",
    "    doc = doc.replace( '--', ' ' )\n",
    "    # replace sentence simple sentence boundaries w/ unique token/markers\n",
    "    doc = doc.replace( '. ', ' endperiod ' )\n",
    "    doc = doc.replace( '! ', ' endexclamation ' )\n",
    "    doc = doc.replace( '? ', ' endquestion ' )\n",
    "    doc = doc.replace( ', ', ' pausecomma ' )\n",
    "    doc = doc.replace( ': ', ' pausecolon ' )\n",
    "    doc = doc.replace( '; ', ' pausesemicolon ' )\n",
    "    \n",
    "    # split into tokens by white space\n",
    "    tokens = doc.split()\n",
    "    \n",
    "    # remove punctuation from each token\n",
    "    table = str.maketrans( '', '', string.punctuation ) # will strip all .?!,:; that don't fit replace expr above.\n",
    "    #table = str.maketrans( '', '', my_punctuation )\n",
    "    tokens = [ w.translate( table ) for w in tokens ]\n",
    "    \n",
    "    # remove remaining tokens that are not alphabetic\n",
    "    if to_lower:\n",
    "        tokens = [ word for word in tokens if word.isalpha() ]\n",
    "    \n",
    "    # make lower case\n",
    "    tokens = [ word.lower() for word in tokens ] \n",
    "    \n",
    "    return tokens"
   ]
  },
  {
   "cell_type": "code",
   "execution_count": 19,
   "metadata": {},
   "outputs": [
    {
     "name": "stdout",
     "output_type": "stream",
     "text": [
      "['thank', 'you', 'so', 'much', 'endperiod', 'thats', 'so', 'nice', 'endperiod', 'isnt', 'he', 'a', 'great', 'guy', 'endperiod', 'he', 'doesnt', 'get', 'a', 'fair', 'press', 'pausesemicolon', 'he', 'doesnt', 'get', 'it', 'endperiod', 'its', 'just', 'not', 'fair', 'endperiod', 'and', 'i', 'have', 'to', 'tell', 'you', 'im', 'here', 'pausecomma', 'and', 'very', 'strongly', 'here', 'pausecomma', 'because', 'i', 'have', 'great', 'respect', 'for', 'steve', 'king', 'and', 'have', 'great', 'respect', 'likewise', 'for', 'citizens', 'united', 'pausecomma', 'david', 'and', 'everybody', 'pausecomma', 'and', 'tremendous', 'resect', 'for', 'the', 'tea', 'party', 'endperiod', 'also', 'pausecomma', 'also', 'the', 'people', 'of', 'iowa', 'endperiod', 'they', 'have', 'something', 'in', 'common', 'endperiod', 'hardworking', 'people', 'endperiod', 'they', 'want', 'to', 'work', 'pausecomma', 'they', 'want', 'to', 'make', 'the', 'country', 'great', 'endperiod', 'i', 'love', 'the', 'people', 'of', 'iowa', 'endperiod', 'so', 'thats', 'the', 'way', 'it', 'is', 'endperiod', 'very', 'simple', 'with', 'that', 'said', 'pausecomma', 'our', 'country', 'is', 'really', 'headed', 'in', 'the', 'wrong', 'direction', 'with', 'a', 'president', 'who', 'is', 'doing', 'an', 'absolutely', 'terrible', 'job', 'endperiod', 'the', 'world', 'is', 'collapsing', 'around', 'us', 'pausecomma', 'and', 'many', 'of', 'the', 'problems', 'weve', 'caused', 'endperiod', 'our', 'president', 'is', 'either', 'grossly', 'incompetent', 'pausecomma', 'a', 'word', 'that', 'more', 'and', 'more', 'people', 'are', 'using', 'pausecomma', 'and', 'i', 'think', 'i', 'was', 'the', 'first', 'to', 'use', 'it', 'pausecomma', 'or', 'he', 'has', 'a', 'completely', 'different', 'agenda', 'than', 'you', 'want', 'to', 'know']\n",
      "Total Tokens: 176988\n",
      "Unique Tokens: 5848\n"
     ]
    }
   ],
   "source": [
    "# clean document\n",
    "tokens = clean_doc( doc )\n",
    "tokens_unique = list( set( tokens ) )\n",
    "print( tokens[ :200 ] )\n",
    "print( 'Total Tokens: %d' % len( tokens ) )\n",
    "print( 'Unique Tokens: %d' % len( tokens_unique ) )"
   ]
  },
  {
   "cell_type": "code",
   "execution_count": null,
   "metadata": {},
   "outputs": [],
   "source": []
  },
  {
   "cell_type": "code",
   "execution_count": 20,
   "metadata": {},
   "outputs": [
    {
     "name": "stdout",
     "output_type": "stream",
     "text": [
      "Total Sequences: 176937\n"
     ]
    }
   ],
   "source": [
    "# organize into sequences of tokens\n",
    "sequence_len = 50 + 1\n",
    "sequences = list()\n",
    "\n",
    "for i in range( sequence_len, len( tokens ) ):\n",
    "    \n",
    "    # select sequence of tokens\n",
    "    seq = tokens[ i - sequence_len:i ]\n",
    "    \n",
    "    # convert into a line\n",
    "    line = ' '.join( seq )\n",
    "    \n",
    "    # store\n",
    "    sequences.append( line )\n",
    "    \n",
    "print( 'Total Sequences: %d' % len( sequences ) )\n"
   ]
  },
  {
   "cell_type": "code",
   "execution_count": 21,
   "metadata": {},
   "outputs": [],
   "source": [
    "# save tokens to file, one dialog per line\n",
    "def save_doc( lines, filename ):\n",
    "    \n",
    "    data = '\\n'.join( lines )\n",
    "    file = open( filename, 'w' )\n",
    "    file.write( data )\n",
    "    file.close()"
   ]
  },
  {
   "cell_type": "code",
   "execution_count": 22,
   "metadata": {},
   "outputs": [],
   "source": [
    "# save sequences to file\n",
    "#out_filename = \"../texts/dr-zeuss-compilation-sequences.txt\"\n",
    "out_filename = \"../texts/trump-speeches-sequences-02.txt\"\n",
    "save_doc( sequences, out_filename )"
   ]
  },
  {
   "cell_type": "code",
   "execution_count": 23,
   "metadata": {},
   "outputs": [
    {
     "data": {
      "text/plain": [
       "['thank you so much endperiod thats so nice endperiod isnt he a great guy endperiod he doesnt get a fair press pausesemicolon he doesnt get it endperiod its just not fair endperiod and i have to tell you im here pausecomma and very strongly here pausecomma because i have great respect',\n",
       " 'you so much endperiod thats so nice endperiod isnt he a great guy endperiod he doesnt get a fair press pausesemicolon he doesnt get it endperiod its just not fair endperiod and i have to tell you im here pausecomma and very strongly here pausecomma because i have great respect for',\n",
       " 'so much endperiod thats so nice endperiod isnt he a great guy endperiod he doesnt get a fair press pausesemicolon he doesnt get it endperiod its just not fair endperiod and i have to tell you im here pausecomma and very strongly here pausecomma because i have great respect for steve',\n",
       " 'much endperiod thats so nice endperiod isnt he a great guy endperiod he doesnt get a fair press pausesemicolon he doesnt get it endperiod its just not fair endperiod and i have to tell you im here pausecomma and very strongly here pausecomma because i have great respect for steve king',\n",
       " 'endperiod thats so nice endperiod isnt he a great guy endperiod he doesnt get a fair press pausesemicolon he doesnt get it endperiod its just not fair endperiod and i have to tell you im here pausecomma and very strongly here pausecomma because i have great respect for steve king and',\n",
       " 'thats so nice endperiod isnt he a great guy endperiod he doesnt get a fair press pausesemicolon he doesnt get it endperiod its just not fair endperiod and i have to tell you im here pausecomma and very strongly here pausecomma because i have great respect for steve king and have',\n",
       " 'so nice endperiod isnt he a great guy endperiod he doesnt get a fair press pausesemicolon he doesnt get it endperiod its just not fair endperiod and i have to tell you im here pausecomma and very strongly here pausecomma because i have great respect for steve king and have great',\n",
       " 'nice endperiod isnt he a great guy endperiod he doesnt get a fair press pausesemicolon he doesnt get it endperiod its just not fair endperiod and i have to tell you im here pausecomma and very strongly here pausecomma because i have great respect for steve king and have great respect',\n",
       " 'endperiod isnt he a great guy endperiod he doesnt get a fair press pausesemicolon he doesnt get it endperiod its just not fair endperiod and i have to tell you im here pausecomma and very strongly here pausecomma because i have great respect for steve king and have great respect likewise',\n",
       " 'isnt he a great guy endperiod he doesnt get a fair press pausesemicolon he doesnt get it endperiod its just not fair endperiod and i have to tell you im here pausecomma and very strongly here pausecomma because i have great respect for steve king and have great respect likewise for']"
      ]
     },
     "execution_count": 23,
     "metadata": {},
     "output_type": "execute_result"
    }
   ],
   "source": [
    "#in_filename = \"../texts/dr-zeuss-compilation-sequences.txt\"\n",
    "in_filename = \"../texts/trump-speeches-sequences-02.txt\"\n",
    "doc = load_doc( in_filename )\n",
    "lines = doc.split( '\\n' )\n",
    "lines[ 0:10 ]"
   ]
  },
  {
   "cell_type": "markdown",
   "metadata": {},
   "source": [
    "## Convert Words to Index Values"
   ]
  },
  {
   "cell_type": "code",
   "execution_count": 24,
   "metadata": {},
   "outputs": [],
   "source": [
    "# integer encode sequences of words\n",
    "tokenizer = Tokenizer()\n",
    "tokenizer.fit_on_texts( lines )\n",
    "sequences = tokenizer.texts_to_sequences( lines )"
   ]
  },
  {
   "cell_type": "code",
   "execution_count": 25,
   "metadata": {},
   "outputs": [
    {
     "name": "stdout",
     "output_type": "stream",
     "text": [
      "True\n",
      "176937\n"
     ]
    }
   ],
   "source": [
    "print( len( sequences[ 0 ] ) == sequence_len )\n",
    "print( len( sequences ) )"
   ]
  },
  {
   "cell_type": "code",
   "execution_count": 26,
   "metadata": {},
   "outputs": [
    {
     "name": "stdout",
     "output_type": "stream",
     "text": [
      "5848\n",
      "<class 'dict'>\n",
      "2\n"
     ]
    }
   ],
   "source": [
    "print( len( tokenizer.word_index ) )\n",
    "print( type( tokenizer.word_index ) )\n",
    "print( tokenizer.word_index[ \"pausecomma\" ] )"
   ]
  },
  {
   "cell_type": "code",
   "execution_count": 27,
   "metadata": {},
   "outputs": [
    {
     "data": {
      "text/plain": [
       "5849"
      ]
     },
     "execution_count": 27,
     "metadata": {},
     "output_type": "execute_result"
    }
   ],
   "source": [
    "# vocabulary size\n",
    "vocab_size = len( tokenizer.word_index ) + 1\n",
    "vocab_size"
   ]
  },
  {
   "cell_type": "code",
   "execution_count": 28,
   "metadata": {},
   "outputs": [
    {
     "data": {
      "text/plain": [
       "50"
      ]
     },
     "execution_count": 28,
     "metadata": {},
     "output_type": "execute_result"
    }
   ],
   "source": [
    "# separate into input and output: for now it's 50 words input and 1 word output\n",
    "sequences = np.array( sequences )\n",
    "X = sequences[ :,:-1 ] # all rows, from word 0 up to, but not including, the last word\n",
    "y = sequences[ :,-1 ]  # all rows, last word only\n",
    "y = to_categorical( y, num_classes=vocab_size )\n",
    "seq_length = X.shape[ 1 ]\n",
    "seq_length"
   ]
  },
  {
   "cell_type": "code",
   "execution_count": null,
   "metadata": {},
   "outputs": [],
   "source": []
  },
  {
   "cell_type": "markdown",
   "metadata": {},
   "source": [
    "## Load and Filter GloVe Data"
   ]
  },
  {
   "cell_type": "code",
   "execution_count": 29,
   "metadata": {},
   "outputs": [
    {
     "name": "stdout",
     "output_type": "stream",
     "text": [
      "****************************************************************************************************************************************************************************************************************************************************************************************************************************************************************************************************************************************************************************************************************************************************************************************************************************************************************************************************************************************************************************************************************************************************************************************************************************************************************************************************************************************************************************************************************************************************************************************************************************************************************************************************************************************************************************************************************************************************************************************************************************************************************************************************************************************************************************************************************************************************************************************************************************************************************************************************************************************************************************************************************************************************************************************************************************************************************************************************************************************************************************************************************************************************************************************************************************************************************************************************************************************************************************************************************************************************************************************************************************************************************************************************************************************************************************************************************************************************************************************************************************************************************************************************************************************************************************************************************************************************************************************************************************************************************************************************************************************************************************************************************************************************************************************************************************************************************************************************************************************************************************************************************************************************************************************************************************************************************************************************************************************************************************************************************************************************************************************************************************************************************************************************************************************************************************************************************************************************************************************************************************************************************************************************************************************************************************************************************************************************************************************************************************************************************************************************************************************************************************************************************************************************************************************************************************************************************************************************************************************************************************************************************************************************************************************************************************************************************************************************************************************************************************************************************************************************************************************************************************************************************************************************************************************************************************\n",
      "Loaded 5644 word vectors.\n",
      "\n",
      "Words not found 204.\n"
     ]
    }
   ],
   "source": [
    "# load the whole embedding into memory\n",
    "embeddings_index = dict()\n",
    "embeddings_dimension = 300 #must be 50, 100, 200, 300\n",
    "glove = open( \"../glove/glove.6B.\" + str( embeddings_dimension ) + \"d.txt\" )\n",
    "\n",
    "for line in glove:\n",
    "    \n",
    "    values = line.split()\n",
    "    # 1st string is word...\n",
    "    word = values[ 0 ]\n",
    "    \n",
    "    if word in tokens_unique:\n",
    "        \n",
    "        # ...the rest are coefficients\n",
    "        coefs = np.asarray( values[ 1: ], dtype='float32' )\n",
    "        embeddings_index[ word ] = coefs\n",
    "        print( \"*\", end=\"\" )\n",
    "    \n",
    "glove.close()\n",
    "print( '\\nLoaded %s word vectors.' % len( embeddings_index ) )\n",
    "print( '\\nWords not found %d.' % ( len( tokenizer.word_index ) - len( embeddings_index ) ) )"
   ]
  },
  {
   "cell_type": "code",
   "execution_count": null,
   "metadata": {},
   "outputs": [],
   "source": []
  },
  {
   "cell_type": "markdown",
   "metadata": {},
   "source": [
    "### Transform into Matrix That Maps Coefs by Index"
   ]
  },
  {
   "cell_type": "code",
   "execution_count": 30,
   "metadata": {},
   "outputs": [
    {
     "name": "stdout",
     "output_type": "stream",
     "text": [
      "204\n"
     ]
    },
    {
     "data": {
      "text/plain": [
       "['endperiod',\n",
       " 'pausecomma',\n",
       " 'endquestion',\n",
       " 'pausesemicolon',\n",
       " 'pausecolon',\n",
       " 'endexclamation',\n",
       " 'selffunding',\n",
       " 'theyve',\n",
       " 'youve',\n",
       " 'beada',\n",
       " 'selfinspect',\n",
       " 'theyll',\n",
       " 'twoway',\n",
       " 'onethird',\n",
       " 'reince',\n",
       " 'lowenergy',\n",
       " 'bluecollar',\n",
       " 'ayeyeye',\n",
       " 'fbomb',\n",
       " 'obamaclinton',\n",
       " 'maralago',\n",
       " 'bigly',\n",
       " 'sixyear',\n",
       " 'escavators',\n",
       " 'nationbuilding',\n",
       " 'africanamerican',\n",
       " 'byebye',\n",
       " 'selfinspection',\n",
       " 'offmike',\n",
       " 'antiwoman',\n",
       " 'intelligencegathering',\n",
       " 'thatand',\n",
       " 'africanamericans',\n",
       " 'donaldjtrumpcom',\n",
       " 'mexicanamerican',\n",
       " 'hardhitting',\n",
       " 'braggadocious',\n",
       " 'selfpolice',\n",
       " 'komatsus',\n",
       " 'nobodys',\n",
       " 'taxexempt',\n",
       " 'indianas',\n",
       " 'fiveforone',\n",
       " 'oreilly',\n",
       " 'resect',\n",
       " 'everyones',\n",
       " 'theyd',\n",
       " 'cetain',\n",
       " 'romneycare',\n",
       " 'oneyard',\n",
       " 'threefooter',\n",
       " 'werent',\n",
       " 'clearsighted',\n",
       " 'nationstate',\n",
       " 'goodsized',\n",
       " 'airconditioner',\n",
       " 'disastertrump',\n",
       " 'nogood',\n",
       " 'peopletrump',\n",
       " 'exampletrump',\n",
       " 'brandnew',\n",
       " 'oldfashioned',\n",
       " 'wellover',\n",
       " 'trilliontrump',\n",
       " 'jobproducer',\n",
       " 'truthteller',\n",
       " 'expresident',\n",
       " 'middleincome',\n",
       " 'miniversion',\n",
       " 'lowlevel',\n",
       " 'smarttough',\n",
       " 'stronglooking',\n",
       " 'resonants',\n",
       " 'exofficials',\n",
       " 'incomptent',\n",
       " 'twentyfive',\n",
       " 'swenden',\n",
       " 'meand',\n",
       " 'friendand',\n",
       " 'hijackists',\n",
       " 'phenomenol',\n",
       " 'knifewielding',\n",
       " 'secondclass',\n",
       " 'orlandos',\n",
       " 'antiamerican',\n",
       " 'lawabiding',\n",
       " 'evergrowing',\n",
       " 'politicallycorrect',\n",
       " 'ityou',\n",
       " 'trumphe',\n",
       " 'leadingnevada',\n",
       " 'twoperson',\n",
       " 'nowand',\n",
       " 'securitybut',\n",
       " 'japanthey',\n",
       " 'showsi',\n",
       " 'gunhow',\n",
       " 'groupthey',\n",
       " 'peopleand',\n",
       " 'antiiowa',\n",
       " 'lovei',\n",
       " 'guyin',\n",
       " 'retweeted',\n",
       " 'realdonaldtrump',\n",
       " 'welleducated',\n",
       " 'underbudget',\n",
       " 'primarycaucus',\n",
       " 'informedthat',\n",
       " 'vetdogs',\n",
       " 'debatebecause',\n",
       " 'millionike',\n",
       " 'amongstand',\n",
       " 'startedi',\n",
       " 'oppositionwhat',\n",
       " 'pressi',\n",
       " 'gaveinvites',\n",
       " 'outsidego',\n",
       " 'waitlists',\n",
       " 'whyhe',\n",
       " 'landslidei',\n",
       " 'candidatewhen',\n",
       " 'thisif',\n",
       " 'halffrozen',\n",
       " 'themthis',\n",
       " 'debatesi',\n",
       " 'knowwe',\n",
       " 'betyou',\n",
       " 'landslidedoes',\n",
       " 'notesand',\n",
       " 'twoyear',\n",
       " 'nabsico',\n",
       " 'doddfrank',\n",
       " 'bewell',\n",
       " 'corruptness',\n",
       " 'countryyou',\n",
       " 'saidwhat',\n",
       " 'embargoing',\n",
       " 'sevenyearold',\n",
       " 'sevenyearsold',\n",
       " 'backtrillion',\n",
       " 'recordsetting',\n",
       " 'watchingwe',\n",
       " 'toothe',\n",
       " 'peoplebush',\n",
       " 'thereso',\n",
       " 'stateswhich',\n",
       " 'expresidents',\n",
       " 'runningthey',\n",
       " 'parttimers',\n",
       " 'nowthe',\n",
       " 'wellour',\n",
       " 'selffund',\n",
       " 'decisionsor',\n",
       " 'fantasticyou',\n",
       " 'semifairly',\n",
       " 'dday',\n",
       " 'permityou',\n",
       " 'scums',\n",
       " 'fairhaired',\n",
       " 'proisrael',\n",
       " 'lifechanging',\n",
       " 'mackeral',\n",
       " 'rollsroyce',\n",
       " 'schusters',\n",
       " 'oneminute',\n",
       " 'socialistcommunist',\n",
       " 'overbrimming',\n",
       " 'mortagage',\n",
       " 'deductability',\n",
       " 'eschelons',\n",
       " 'obselete',\n",
       " 'selffunded',\n",
       " 'ordierno',\n",
       " 'selffunder',\n",
       " 'bleh',\n",
       " 'ayeyayay',\n",
       " 'braggingly',\n",
       " 'sharons',\n",
       " 'fricking',\n",
       " 'itll',\n",
       " 'deathdefying',\n",
       " 'thirtythree',\n",
       " 'brexits',\n",
       " 'oversay',\n",
       " 'numberone',\n",
       " 'secondlowest',\n",
       " 'pences',\n",
       " 'dshtidnt',\n",
       " 'pliblg',\n",
       " 'maepgessenger',\n",
       " 'cameramans',\n",
       " 'nashltionally',\n",
       " 'kpzcompanies',\n",
       " 'thetory',\n",
       " 'thirdworld',\n",
       " 'alumisource',\n",
       " 'depressionlevel',\n",
       " 'politicianmade',\n",
       " 'upsidedown',\n",
       " 'taxfree',\n",
       " 'jobkilling',\n",
       " 'inflationadjusted',\n",
       " 'transpacificpartnership',\n",
       " 'americanproduced']"
      ]
     },
     "execution_count": 30,
     "metadata": {},
     "output_type": "execute_result"
    }
   ],
   "source": [
    "# create a weight matrix for words in training docs\n",
    "embedding_matrix = np.zeros( ( vocab_size, embeddings_dimension ) )\n",
    "missing_words = []\n",
    "\n",
    "# we need this to create empty coefficients array\n",
    "dummy_shape = embeddings_index[ \"the\" ].shape\n",
    "\n",
    "for word, i in tokenizer.word_index.items():\n",
    "    \n",
    "    embedding_vector = embeddings_index.get( word )\n",
    "    \n",
    "    # not all words in our token list are in the wikipedia 400K set!\n",
    "    if embedding_vector is None:\n",
    "        \n",
    "        # report and create empty coefficients array\n",
    "        missing_words.append( word )\n",
    "        embedding_vector = np.zeros( dummy_shape )\n",
    "        \n",
    "    embedding_matrix[ i ] = embedding_vector\n",
    "    \n",
    "print( len( missing_words ) )\n",
    "missing_words"
   ]
  },
  {
   "cell_type": "code",
   "execution_count": 31,
   "metadata": {},
   "outputs": [
    {
     "name": "stdout",
     "output_type": "stream",
     "text": [
      "300\n",
      "0.0\n"
     ]
    },
    {
     "data": {
      "text/plain": [
       "205"
      ]
     },
     "execution_count": 31,
     "metadata": {},
     "output_type": "execute_result"
    }
   ],
   "source": [
    "# confirm visually that \n",
    "print( len( embedding_matrix[ 0 ] ) )\n",
    "print( sum( embedding_matrix[ 0 ] ) )\n",
    "empty_coefficients_count = 0\n",
    "\n",
    "for i in range( len( embedding_matrix ) ):\n",
    "    if sum( embedding_matrix[ i ] ) == 0:\n",
    "        empty_coefficients_count += 1\n",
    "        \n",
    "empty_coefficients_count"
   ]
  },
  {
   "cell_type": "markdown",
   "metadata": {},
   "source": [
    "## Define Model"
   ]
  },
  {
   "cell_type": "code",
   "execution_count": 17,
   "metadata": {},
   "outputs": [
    {
     "name": "stdout",
     "output_type": "stream",
     "text": [
      "2.1.3\n",
      "1.4.1\n"
     ]
    }
   ],
   "source": [
    "import keras\n",
    "print( keras.__version__ )\n",
    "\n",
    "import tensorflow as tf\n",
    "print( tf.__version__ )"
   ]
  },
  {
   "cell_type": "code",
   "execution_count": 32,
   "metadata": {},
   "outputs": [
    {
     "name": "stdout",
     "output_type": "stream",
     "text": [
      "_________________________________________________________________\n",
      "Layer (type)                 Output Shape              Param #   \n",
      "=================================================================\n",
      "embedding_1 (Embedding)      (None, 50, 300)           1754700   \n",
      "_________________________________________________________________\n",
      "lstm_1 (LSTM)                (None, 50, 100)           160400    \n",
      "_________________________________________________________________\n",
      "lstm_2 (LSTM)                (None, 100)               80400     \n",
      "_________________________________________________________________\n",
      "dense_1 (Dense)              (None, 100)               10100     \n",
      "_________________________________________________________________\n",
      "dense_2 (Dense)              (None, 5849)              590749    \n",
      "=================================================================\n",
      "Total params: 2,596,349\n",
      "Trainable params: 2,596,349\n",
      "Non-trainable params: 0\n",
      "_________________________________________________________________\n",
      "None\n"
     ]
    }
   ],
   "source": [
    "# define model\n",
    "model = Sequential()\n",
    "\n",
    "# now using a pre-trained, non-trainable embedding from glove's wiki analysis\n",
    "model.add( Embedding( vocab_size, embeddings_dimension, weights=[embedding_matrix], input_length=seq_length, trainable=True ) )\n",
    "model.add( LSTM( seq_length * 2, return_sequences=True ) )\n",
    "model.add( LSTM( seq_length * 2 ) )\n",
    "model.add( Dense( seq_length * 2, activation='relu' ) )\n",
    "\n",
    "# fixed TypeError below, downgraded keras from 2.1.5 to 2.1.3: https://github.com/keras-team/keras/issues/9621\n",
    "# TypeError: softmax() got an unexpected keyword argument 'axis'\n",
    "model.add( Dense( vocab_size, activation='softmax' ) )\n",
    "\n",
    "print( model.summary() )"
   ]
  },
  {
   "cell_type": "markdown",
   "metadata": {},
   "source": [
    "## Fit the Model"
   ]
  },
  {
   "cell_type": "code",
   "execution_count": 34,
   "metadata": {},
   "outputs": [
    {
     "name": "stdout",
     "output_type": "stream",
     "text": [
      "1382.3203125\n",
      "172.11770428015564\n"
     ]
    }
   ],
   "source": [
    "# calc batch size\n",
    "print( len( sequences ) / 128 )\n",
    "print( len( sequences ) / 1028 )\n",
    "# Was:\n",
    "#batch_size = 128\n",
    "batch_size = 1028\n"
   ]
  },
  {
   "cell_type": "code",
   "execution_count": null,
   "metadata": {},
   "outputs": [
    {
     "name": "stdout",
     "output_type": "stream",
     "text": [
      "2018.05.21 11:22\n",
      "Epoch 1/100\n",
      "176937/176937 [==============================] - 28s 157us/step - loss: 5.8367 - acc: 0.0642\n",
      "Epoch 2/100\n",
      "176937/176937 [==============================] - 27s 150us/step - loss: 5.5745 - acc: 0.0791\n",
      "Epoch 3/100\n",
      " 16448/176937 [=>............................] - ETA: 24s - loss: 5.4769 - acc: 0.0891"
     ]
    }
   ],
   "source": [
    "start_time = get_time()\n",
    "# compile model\n",
    "model.compile( loss='categorical_crossentropy', optimizer='adam', metrics=[ 'accuracy' ] )\n",
    "# fit model\n",
    "model.fit( X, y, batch_size=batch_size, epochs=100 )\n",
    "end_time = get_time()\n",
    "print_time( start_time, end_time )"
   ]
  },
  {
   "cell_type": "code",
   "execution_count": 42,
   "metadata": {},
   "outputs": [],
   "source": [
    "# save the model to file\n",
    "model.save( \"models/trump-speeches-03.keras\" )\n",
    "\n",
    "# save the tokenizer\n",
    "dump( tokenizer, open( \"tokenizers/trump-speeches-03.pkl\", 'wb' ) )\n",
    "\n",
    "# save embedding_matrix based on wiki embeddings, complete w/ missing coefficients array dummies\n",
    "dump( embedding_matrix, open( \"embeddings/trump-speeches-03.glove\", 'wb' ) )\n"
   ]
  },
  {
   "cell_type": "markdown",
   "metadata": {},
   "source": [
    "## Use The Model to Generate Text"
   ]
  },
  {
   "cell_type": "code",
   "execution_count": 43,
   "metadata": {},
   "outputs": [
    {
     "data": {
      "text/plain": [
       "50"
      ]
     },
     "execution_count": 43,
     "metadata": {},
     "output_type": "execute_result"
    }
   ],
   "source": [
    "seq_length = len( lines[ 0 ].split() ) - 1\n",
    "seq_length"
   ]
  },
  {
   "cell_type": "code",
   "execution_count": null,
   "metadata": {},
   "outputs": [],
   "source": []
  },
  {
   "cell_type": "code",
   "execution_count": null,
   "metadata": {},
   "outputs": [],
   "source": []
  },
  {
   "cell_type": "code",
   "execution_count": null,
   "metadata": {},
   "outputs": [],
   "source": []
  },
  {
   "cell_type": "code",
   "execution_count": 44,
   "metadata": {},
   "outputs": [],
   "source": [
    "def generate_seq( model, tokenizer, seq_length, seed_text, n_words ):\n",
    "    \n",
    "    result = list()\n",
    "    in_text = seed_text\n",
    "    \n",
    "    # generate a fixed number of words\n",
    "    for _ in range( n_words ):\n",
    "        \n",
    "        # encode the text as integer\n",
    "        encoded = tokenizer.texts_to_sequences( [ in_text ] )[ 0 ] \n",
    "        \n",
    "        # truncate sequences to a fixed length\n",
    "        encoded = pad_sequences( [ encoded ], maxlen=seq_length, truncating='pre' ) \n",
    "        \n",
    "        # predict probabilities for each word\n",
    "        yhat = model.predict_classes( encoded, verbose=0 )\n",
    "        \n",
    "        # map predicted word index to word\n",
    "        out_word = ''\n",
    "        for word, index in tokenizer.word_index.items():\n",
    "            if index == yhat:\n",
    "                out_word = word\n",
    "                break \n",
    "                \n",
    "        # append to input\n",
    "        in_text += ' ' + out_word\n",
    "        \n",
    "        result.append( out_word )\n",
    "        \n",
    "    return ' '.join( result )"
   ]
  },
  {
   "cell_type": "code",
   "execution_count": 45,
   "metadata": {},
   "outputs": [
    {
     "name": "stdout",
     "output_type": "stream",
     "text": [
      "and saying thank you very much sucker its really really crazy so we have to rebuild quickly our infrastructure of this country if we dont the other day in ohio a bridge collapsed bridges are collapsing all over the country the reports on bridges and the like are unbelievable whats happening...\n",
      "\n",
      "...with our infrastructure i go to saudi arabia i go to dubai i am doing big jobs in dubai i go to various different places i go to china i can do something in first place you go and help from hell of a lot of money worth a lot\n"
     ]
    }
   ],
   "source": [
    "# select a seed text\n",
    "seed_text = lines[ randint( 0, len( lines ) ) ]\n",
    "print( seed_text + '...\\n' )\n",
    "#print( len( seed_text.split( \" \" ) ) )\n",
    "\n",
    "# generate new text\n",
    "generated = generate_seq( model, tokenizer, seq_length, seed_text, 50 )\n",
    "print( \"...\" + generated )"
   ]
  },
  {
   "cell_type": "code",
   "execution_count": 46,
   "metadata": {},
   "outputs": [],
   "source": [
    "def generate_seq_word_by_word( model, tokenizer, seq_length, seed_text, n_words ):\n",
    "    \n",
    "    print( \"...\", end='' )\n",
    "    #result = list()\n",
    "    in_text = seed_text\n",
    "    \n",
    "    # generate a fixed number of words\n",
    "    for _ in range( n_words ):\n",
    "        \n",
    "        # encode the text as integer\n",
    "        encoded = tokenizer.texts_to_sequences( [ in_text ] )[ 0 ] \n",
    "        \n",
    "        # truncate sequences to a fixed length\n",
    "        encoded = pad_sequences( [ encoded ], maxlen=seq_length, truncating='pre' ) \n",
    "        \n",
    "        # predict probabilities for each word\n",
    "        yhat = model.predict_classes( encoded, verbose=0 )\n",
    "        \n",
    "        # map predicted word index to word\n",
    "        out_word = ''\n",
    "        for word, index in tokenizer.word_index.items():\n",
    "            if index == yhat:\n",
    "                out_word = word\n",
    "                print( word, end=' ' )\n",
    "                break \n",
    "                \n",
    "        # append to input for next iteration\n",
    "        in_text += ' ' + out_word"
   ]
  },
  {
   "cell_type": "code",
   "execution_count": 47,
   "metadata": {},
   "outputs": [
    {
     "name": "stdout",
     "output_type": "stream",
     "text": [
      "may be wrong but who i am a very honest person if somebody is going to say a little bit negative or a lot negative about me and if they happen to be republican i may choose to hit them back not always but i may choose to hit them back...\n",
      "\n",
      "...not a fan of mitt romney mitt romney lost an election he should have won and if you maybe even going to go in me "
     ]
    }
   ],
   "source": [
    "# select a seed text\n",
    "seed_text = lines[ randint( 0, len( lines ) ) ]\n",
    "print( seed_text + '...\\n' )\n",
    "\n",
    "# generate new text\n",
    "generate_seq_word_by_word( model, tokenizer, seq_length, seed_text, 25 )"
   ]
  },
  {
   "cell_type": "code",
   "execution_count": 50,
   "metadata": {},
   "outputs": [
    {
     "name": "stdout",
     "output_type": "stream",
     "text": [
      "trump walked down\n",
      "...a fortune up your company so trump is so you sit right and i just want to skip iowa i was and he said what "
     ]
    }
   ],
   "source": [
    "my_input = input()\n",
    "\n",
    "# generate new text\n",
    "generate_seq_word_by_word( model, tokenizer, seq_length, my_input, 25 )"
   ]
  },
  {
   "cell_type": "code",
   "execution_count": null,
   "metadata": {},
   "outputs": [],
   "source": []
  }
 ],
 "metadata": {
  "kernelspec": {
   "display_name": "Python 3",
   "language": "python",
   "name": "python3"
  },
  "language_info": {
   "codemirror_mode": {
    "name": "ipython",
    "version": 3
   },
   "file_extension": ".py",
   "mimetype": "text/x-python",
   "name": "python",
   "nbconvert_exporter": "python",
   "pygments_lexer": "ipython3",
   "version": "3.6.4"
  }
 },
 "nbformat": 4,
 "nbformat_minor": 2
}
