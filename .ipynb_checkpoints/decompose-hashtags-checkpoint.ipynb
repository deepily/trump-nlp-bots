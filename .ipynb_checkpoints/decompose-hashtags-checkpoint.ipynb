{
 "cells": [
  {
   "cell_type": "code",
   "execution_count": 6,
   "metadata": {},
   "outputs": [
    {
     "name": "stdout",
     "output_type": "stream",
     "text": [
      "['damac', 'obamasfavoritecharity', 'pearlharbor', 'tcot', 'trumpchicago', 'teaminfinity', 'ocarenightmare', 'supersaturday', 'prstrong', 'momoneymoproblems']\n",
      "<class 'list'>\n"
     ]
    }
   ],
   "source": [
    "# read and strip trailing '\\n' https://viewsby.wordpress.com/2014/08/28/python-remove-newline-from-readlines/\n",
    "with open( 'hashtags/hashtag-list-take-I.txt', 'r' ) as hashtag_file:\n",
    "    \n",
    "    #hashtags = hashtag_file.readlines()\n",
    "    hashtags = hashtag_file.read().splitlines()\n",
    "\n",
    "print( hashtags[ 0:10 ] )"
   ]
  },
  {
   "cell_type": "code",
   "execution_count": null,
   "metadata": {},
   "outputs": [],
   "source": [
    "hashtag_dict = "
   ]
  }
 ],
 "metadata": {
  "kernelspec": {
   "display_name": "Python 3",
   "language": "python",
   "name": "python3"
  },
  "language_info": {
   "codemirror_mode": {
    "name": "ipython",
    "version": 3
   },
   "file_extension": ".py",
   "mimetype": "text/x-python",
   "name": "python",
   "nbconvert_exporter": "python",
   "pygments_lexer": "ipython3",
   "version": "3.6.4"
  }
 },
 "nbformat": 4,
 "nbformat_minor": 2
}
