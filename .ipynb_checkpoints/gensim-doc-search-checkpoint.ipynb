{
 "cells": [
  {
   "cell_type": "code",
   "execution_count": 15,
   "metadata": {},
   "outputs": [],
   "source": [
    "# From: https://pypi.org/project/import-ipynb/\n",
    "import import_ipynb\n",
    "\n",
    "import deepily.util as dp_util\n",
    "from gensim import corpora, models, similarities\n",
    "from pprint import pprint  # pretty-printer\n",
    "from gensim.summarization import summarize"
   ]
  },
  {
   "cell_type": "markdown",
   "metadata": {},
   "source": [
    "## Global Vars"
   ]
  },
  {
   "cell_type": "code",
   "execution_count": 2,
   "metadata": {},
   "outputs": [],
   "source": [
    "INPUT_FILE_PATH = \"../texts/trump-tweets.txt\"\n",
    "# INPUT_FILE_PATH = \"../texts/trump-speeches.txt\"\n",
    "\n",
    "DICTIONARY_PATH = \"output/gensim-trump-tweets.dict\"\n",
    "CORPUS_PATH = \"output/gensim-trump-tweets.mm\""
   ]
  },
  {
   "cell_type": "code",
   "execution_count": null,
   "metadata": {},
   "outputs": [],
   "source": [
    "dp_util.select_gpu()"
   ]
  },
  {
   "cell_type": "code",
   "execution_count": null,
   "metadata": {},
   "outputs": [],
   "source": [
    "dp_util.select_cores()"
   ]
  },
  {
   "cell_type": "markdown",
   "metadata": {},
   "source": [
    "## Load Tweets Verbatim"
   ]
  },
  {
   "cell_type": "code",
   "execution_count": 3,
   "metadata": {},
   "outputs": [
    {
     "name": "stdout",
     "output_type": "stream",
     "text": [
      "2018.07.09 13:06\n",
      "2018.07.09 13:06\n",
      "Time to process: [0.010229110717773438] seconds\n"
     ]
    }
   ],
   "source": [
    "start_time = dp_util.get_time()\n",
    "documents = dp_util.load_doc_by_lines( INPUT_FILE_PATH )\n",
    "dp_util.print_time( start_time, dp_util.get_time() )"
   ]
  },
  {
   "cell_type": "markdown",
   "metadata": {},
   "source": [
    "## Preprocess Tweets"
   ]
  },
  {
   "cell_type": "code",
   "execution_count": 4,
   "metadata": {},
   "outputs": [
    {
     "name": "stdout",
     "output_type": "stream",
     "text": [
      "['school',\n",
      " 'shooting',\n",
      " 'texas.',\n",
      " 'early',\n",
      " 'reports',\n",
      " 'not',\n",
      " 'looking',\n",
      " 'good.',\n",
      " 'god',\n",
      " 'bless',\n",
      " 'all!']\n"
     ]
    }
   ],
   "source": [
    "# remove common words and tokenize\n",
    "stoplist = set( \"for a of the and to in\".split() )\n",
    "texts = [ [ word for word in document.lower().split() if word not in stoplist ] for document in documents ]\n",
    "\n",
    "# # remove words that appear only once\n",
    "# from collections import defaultdict\n",
    "# frequency = defaultdict(int)\n",
    "# for text in texts:\n",
    "#     for token in text:\n",
    "#         frequency[token] += 1\n",
    "\n",
    "# texts = [[token for token in text if frequency[token] > 1] for text in texts]\n",
    "pprint( texts[ 3 ] )"
   ]
  },
  {
   "cell_type": "markdown",
   "metadata": {},
   "source": [
    "## Create Dictionary"
   ]
  },
  {
   "cell_type": "code",
   "execution_count": 5,
   "metadata": {},
   "outputs": [
    {
     "name": "stdout",
     "output_type": "stream",
     "text": [
      "Dictionary(47359 unique tokens: ['@nikkihaley', 'again.”', 'antónio', 'around', 'conflicts']...)\n"
     ]
    }
   ],
   "source": [
    "dictionary = corpora.Dictionary( texts )\n",
    "dictionary.save( DICTIONARY_PATH )  # store the dictionary, for future reference\n",
    "print( dictionary )"
   ]
  },
  {
   "cell_type": "code",
   "execution_count": 12,
   "metadata": {},
   "outputs": [],
   "source": [
    "# token2id gets dict object\n",
    "# print( dictionary.token2id )"
   ]
  },
  {
   "cell_type": "code",
   "execution_count": null,
   "metadata": {},
   "outputs": [],
   "source": []
  },
  {
   "cell_type": "markdown",
   "metadata": {},
   "source": [
    "## Create Corpora"
   ]
  },
  {
   "cell_type": "code",
   "execution_count": 6,
   "metadata": {},
   "outputs": [],
   "source": [
    "corpus = [ dictionary.doc2bow( text ) for text in texts ]\n",
    "corpora.MmCorpus.serialize( CORPUS_PATH, corpus )   "
   ]
  },
  {
   "cell_type": "code",
   "execution_count": 31,
   "metadata": {},
   "outputs": [],
   "source": [
    "# tfidf = models.TfidfModel( corpus )"
   ]
  },
  {
   "cell_type": "code",
   "execution_count": 32,
   "metadata": {},
   "outputs": [],
   "source": [
    "# corpus_tfidf = tfidf[ corpus ]\n",
    "# corpus_tfidf[ 3 ]"
   ]
  },
  {
   "cell_type": "code",
   "execution_count": 7,
   "metadata": {},
   "outputs": [],
   "source": [
    "lsi = models.LsiModel( corpus, id2word=dictionary, num_topics=300 ) # ideal number is > 300 and < 500"
   ]
  },
  {
   "cell_type": "code",
   "execution_count": 8,
   "metadata": {},
   "outputs": [
    {
     "name": "stdout",
     "output_type": "stream",
     "text": [
      "2018.07.09 13:07\n",
      "2018.07.09 13:07\n",
      "Time to process: [3.540031671524048] seconds\n"
     ]
    }
   ],
   "source": [
    "start_time = dp_util.get_time()\n",
    "index_lsi = similarities.MatrixSimilarity( lsi[ corpus ] )\n",
    "dp_util.print_time( start_time, dp_util.get_time() )"
   ]
  },
  {
   "cell_type": "code",
   "execution_count": 9,
   "metadata": {},
   "outputs": [
    {
     "name": "stdout",
     "output_type": "stream",
     "text": [
      "[(118, 1), (344, 1)]\n",
      "(0, 0.014219028417728746)\n"
     ]
    }
   ],
   "source": [
    "#search_doc = \"mexico build a wall\"\n",
    "#search_doc = \"luxury condominium\"\n",
    "#search_doc = \"basket of deplorables\"\n",
    "search_doc = \"russia collusion\"\n",
    "search_bow = dictionary.doc2bow( search_doc.lower().split() )\n",
    "print( search_bow )  \n",
    "search_lsi = lsi[ search_bow ]\n",
    "print( search_lsi[ 0 ] ) "
   ]
  },
  {
   "cell_type": "code",
   "execution_count": 10,
   "metadata": {},
   "outputs": [
    {
     "name": "stdout",
     "output_type": "stream",
     "text": [
      "2018.07.09 13:07\n",
      "2018.07.09 13:07\n",
      "Time to process: [0.01387643814086914] seconds\n"
     ]
    }
   ],
   "source": [
    "start_time = dp_util.get_time()\n",
    "\n",
    "# perform a similarity query against the corpus\n",
    "similar_docs = index_lsi[ search_lsi ] \n",
    "# sort in descending order by 2nd value in tuple\n",
    "similar_docs = sorted( enumerate( similar_docs ), key=lambda item: -item[ 1 ] )\n",
    "\n",
    "dp_util.print_time( start_time, dp_util.get_time() )"
   ]
  },
  {
   "cell_type": "code",
   "execution_count": 11,
   "metadata": {},
   "outputs": [
    {
     "name": "stdout",
     "output_type": "stream",
     "text": [
      "[(961, 0.64740396), (1251, 0.57600957), (664, 0.56409812), (11235, 0.55780679), (2631, 0.54056376), (14318, 0.49824637), (2424, 0.46445632)]\n",
      "[(11239, -0.1455529), (16332, -0.15065646), (17669, -0.151124), (15243, -0.15285259), (13763, -0.16303205), (18216, -0.1858997), (17167, -0.20957218)]\n"
     ]
    }
   ],
   "source": [
    "print( similar_docs[ :7 ] )\n",
    "print( similar_docs[ -7: ] )\n"
   ]
  },
  {
   "cell_type": "code",
   "execution_count": 12,
   "metadata": {},
   "outputs": [],
   "source": [
    "def print_docs( docs ):\n",
    "    \n",
    "    for doc in docs:\n",
    "        \n",
    "        print( \"Score [%f.4] Tweet [%s]\\n\" % ( doc[ 1 ], documents[ doc[ 0 ] ].strip() ) )"
   ]
  },
  {
   "cell_type": "code",
   "execution_count": 13,
   "metadata": {},
   "outputs": [
    {
     "name": "stdout",
     "output_type": "stream",
     "text": [
      "Score [0.647404.4] Tweet [Congratulations to @ABC News for suspending Brian Ross for his horrendously inaccurate and dishonest report on the Russia Russia Russia Witch Hunt. More Networks and “papers” should do the same with their Fake News!]\n",
      "\n",
      "Score [0.576010.4] Tweet [.@FoxNews Chris Wallace: “More evidence of Dem collusion with Russia than GOP” https://t.co/nACQerJSiu]\n",
      "\n",
      "Score [0.564098.4] Tweet [Great jobs numbers and finally after many years rising wages- and nobody even talks about them. Only Russia Russia Russia despite the fact that after a year of looking there is No Collusion!]\n",
      "\n",
      "Score [0.557807.4] Tweet [Twitter for Android,A classic - China just signs massive oil and gas deal with Russia giving Russia plenty of ammo to continue laughing in U.S. face.,05-20-2014 05:45:02,257,184,false,468628444192845825]\n",
      "\n",
      "Score [0.540564.4] Tweet [\"...money to Bill the Hillary Russian \"\"reset\"\" praise of Russia by Hillary or Podesta Russian Company. Trump Russia story is a hoax. #MAGA!\"]\n",
      "\n",
      "Score [0.498246.4] Tweet [Putin says Russia can’t allow a weakening of its nuclear deterrent—U.S. wants to reduce—are we crazy?]\n",
      "\n",
      "Score [0.464456.4] Tweet [\"Director Clapper reiterated what everybody including the fake media already knows- there is \"\"no evidence\"\" of collusion w/ Russia and Trump.\"]\n",
      "\n",
      "-----------------------------\n",
      "Score [-0.145553.4] Tweet [Instagram,With @ivankatrump and the Chairman of DAMAC in Dubai. http://t.co/Y4YWQRBuLj,05-19-2014 15:25:13,26,50,false,468412062956535808]\n",
      "\n",
      "Score [-0.150656.4] Tweet [@KarsynSharp]\n",
      "\n",
      "Score [-0.151124.4] Tweet [@TweetsFromNancy  Interesting view!]\n",
      "\n",
      "Score [-0.152853.4] Tweet [@UnitedContractF  Interesting and true.]\n",
      "\n",
      "Score [-0.163032.4] Tweet [@The_Iron_Lad Conservative!]\n",
      "\n",
      "Score [-0.185900.4] Tweet [@atrlimo @EricTrump  Agreed.]\n",
      "\n",
      "Score [-0.209572.4] Tweet [@cGjeezy Tea.]\n",
      "\n"
     ]
    }
   ],
   "source": [
    "print_docs( similar_docs[ :7 ] )\n",
    "print( \"-----------------------------\" )\n",
    "print_docs( similar_docs[ -7: ] )\n"
   ]
  },
  {
   "cell_type": "markdown",
   "metadata": {},
   "source": [
    "## Summarize Top 7 Similar Docs"
   ]
  },
  {
   "cell_type": "code",
   "execution_count": 21,
   "metadata": {},
   "outputs": [
    {
     "data": {
      "text/plain": [
       "(11235, 0.55780679)"
      ]
     },
     "execution_count": 21,
     "metadata": {},
     "output_type": "execute_result"
    }
   ],
   "source": [
    "similar_docs[ 3 ]\n",
    "#summarize( similar_docs[ 3 ], ratio=0.5 )"
   ]
  },
  {
   "cell_type": "code",
   "execution_count": 29,
   "metadata": {},
   "outputs": [
    {
     "name": "stdout",
     "output_type": "stream",
     "text": [
      ".@FoxNews Chris Wallace: “More evidence of Dem collusion with Russia than GOP” https://t.co/nACQerJSiu Great jobs numbers and finally after many years rising wages- and nobody even talks about them. Only Russia Russia Russia despite the fact that after a year of looking there is No Collusion! Twitter for Android,A classic - China just signs massive oil and gas deal with Russia giving Russia plenty of ammo to continue laughing in U.S. face.,05-20-2014 05:45:02,257,184,false,468628444192845825 \"...money to Bill the Hillary Russian \"\"reset\"\" praise of Russia by Hillary or Podesta Russian Company. Trump Russia story is a hoax. #MAGA!\" Putin says Russia can’t allow a weakening of its nuclear deterrent—U.S. wants to reduce—are we crazy? \"Director Clapper reiterated what everybody including the fake media already knows- there is \"\"no evidence\"\" of collusion w/ Russia and Trump.\"\n",
      "\n",
      "\n"
     ]
    }
   ],
   "source": [
    "summaries = []similar_tweets = []\n",
    "\n",
    "for doc in similar_docs[ 1:7 ]:\n",
    "\n",
    "    similar_tweets.append( documents[ doc[ 0 ] ].strip() )\n",
    "    \n",
    "similar_tweets = \" \".join( similar_tweets )\n",
    "print( similar_tweets )\n",
    "print() \n",
    "    "
   ]
  },
  {
   "cell_type": "code",
   "execution_count": 36,
   "metadata": {},
   "outputs": [
    {
     "name": "stdout",
     "output_type": "stream",
     "text": [
      ".@FoxNews Chris Wallace: “More evidence of Dem collusion with Russia than GOP” https://t.co/nACQerJSiu Great jobs numbers and finally after many years rising wages- and nobody even talks about them.\n"
     ]
    }
   ],
   "source": [
    "summary = summarize( similar_tweets, word_count=25 )# ratio=0.5 )\n",
    "print( summary )\n"
   ]
  },
  {
   "cell_type": "code",
   "execution_count": null,
   "metadata": {},
   "outputs": [],
   "source": []
  }
 ],
 "metadata": {
  "kernelspec": {
   "display_name": "Python 3",
   "language": "python",
   "name": "python3"
  },
  "language_info": {
   "codemirror_mode": {
    "name": "ipython",
    "version": 3
   },
   "file_extension": ".py",
   "mimetype": "text/x-python",
   "name": "python",
   "nbconvert_exporter": "python",
   "pygments_lexer": "ipython3",
   "version": "3.6.4"
  }
 },
 "nbformat": 4,
 "nbformat_minor": 2
}
