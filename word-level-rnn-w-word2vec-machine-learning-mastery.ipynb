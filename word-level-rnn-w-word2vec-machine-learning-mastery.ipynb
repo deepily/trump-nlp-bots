{
 "cells": [
  {
   "cell_type": "markdown",
   "metadata": {},
   "source": [
    "### Based on: https://machinelearningmastery.com/use-word-embedding-layers-deep-learning-keras/ and https://machinelearningmastery.com/how-to-develop-a-word-level-neural-language-model-in-keras/ and https://github.com/stanfordnlp/GloVe"
   ]
  },
  {
   "cell_type": "code",
   "execution_count": 1,
   "metadata": {},
   "outputs": [
    {
     "name": "stderr",
     "output_type": "stream",
     "text": [
      "Using TensorFlow backend.\n"
     ]
    }
   ],
   "source": [
    "import string\n",
    "from pickle import dump\n",
    "from keras.preprocessing.text import Tokenizer\n",
    "from keras.utils import to_categorical\n",
    "from keras.models import Sequential\n",
    "from keras.layers import Dense\n",
    "from keras.layers import LSTM\n",
    "from keras.layers import Embedding\n",
    "\n",
    "import numpy as np\n",
    "\n",
    "from random import randint\n",
    "from keras.preprocessing.sequence import pad_sequences"
   ]
  },
  {
   "cell_type": "code",
   "execution_count": 2,
   "metadata": {},
   "outputs": [
    {
     "name": "stdout",
     "output_type": "stream",
     "text": [
      "﻿SPEECH 1\n",
      "\n",
      "\n",
      "...Thank you so much.  That's so nice.  Isn't he a great guy.  He doesn't get a fair press; he doesn't get it.  It's just not fair.  And I have to tell you I'm here, and very strongly here\n"
     ]
    }
   ],
   "source": [
    "# load doc into memory\n",
    "def load_doc( filename ):\n",
    "    \n",
    "    # open the file as read only\n",
    "    file = open( filename, 'r' )\n",
    "    # read all text\n",
    "    text = file.read()\n",
    "    # close the file\n",
    "    file.close()\n",
    "    \n",
    "    return text\n",
    "\n",
    "# load document\n",
    "#in_filename = \"../texts/alice-in-wonderland.txt\"\n",
    "#in_filename = \"../texts/dr-zeuss-compilation.txt\"\n",
    "in_filename = \"../texts/trump-speeches.txt\"\n",
    "doc = load_doc( in_filename )\n",
    "print( doc[ :200 ] )"
   ]
  },
  {
   "cell_type": "code",
   "execution_count": 3,
   "metadata": {},
   "outputs": [],
   "source": [
    "# turn a doc into clean tokens\n",
    "def clean_doc( doc, to_lower=True ):\n",
    "    \n",
    "    # replace '--' with a space ' '\n",
    "    doc = doc.replace( '--', ' ' )\n",
    "    \n",
    "    # split into tokens by white space\n",
    "    tokens = doc.split()\n",
    "    \n",
    "    # remove punctuation from each token\n",
    "    table = str.maketrans( '', '', string.punctuation )\n",
    "    tokens = [ w.translate( table ) for w in tokens ]\n",
    "    \n",
    "    # remove remaining tokens that are not alphabetic\n",
    "    if to_lower:\n",
    "        tokens = [ word for word in tokens if word.isalpha() ]\n",
    "    \n",
    "    # make lower case\n",
    "    tokens = [ word.lower() for word in tokens ] \n",
    "    \n",
    "    return tokens"
   ]
  },
  {
   "cell_type": "code",
   "execution_count": 4,
   "metadata": {},
   "outputs": [
    {
     "name": "stdout",
     "output_type": "stream",
     "text": [
      "['thank', 'you', 'so', 'much', 'thats', 'so', 'nice', 'isnt', 'he', 'a', 'great', 'guy', 'he', 'doesnt', 'get', 'a', 'fair', 'press', 'he', 'doesnt', 'get', 'it', 'its', 'just', 'not', 'fair', 'and', 'i', 'have', 'to', 'tell', 'you', 'im', 'here', 'and', 'very', 'strongly', 'here', 'because', 'i', 'have', 'great', 'respect', 'for', 'steve', 'king', 'and', 'have', 'great', 'respect', 'likewise', 'for', 'citizens', 'united', 'david', 'and', 'everybody', 'and', 'tremendous', 'resect', 'for', 'the', 'tea', 'party', 'also', 'also', 'the', 'people', 'of', 'iowa', 'they', 'have', 'something', 'in', 'common', 'hardworking', 'people', 'they', 'want', 'to', 'work', 'they', 'want', 'to', 'make', 'the', 'country', 'great', 'i', 'love', 'the', 'people', 'of', 'iowa', 'so', 'thats', 'the', 'way', 'it', 'is', 'very', 'simple', 'with', 'that', 'said', 'our', 'country', 'is', 'really', 'headed', 'in', 'the', 'wrong', 'direction', 'with', 'a', 'president', 'who', 'is', 'doing', 'an', 'absolutely', 'terrible', 'job', 'the', 'world', 'is', 'collapsing', 'around', 'us', 'and', 'many', 'of', 'the', 'problems', 'weve', 'caused', 'our', 'president', 'is', 'either', 'grossly', 'incompetent', 'a', 'word', 'that', 'more', 'and', 'more', 'people', 'are', 'using', 'and', 'i', 'think', 'i', 'was', 'the', 'first', 'to', 'use', 'it', 'or', 'he', 'has', 'a', 'completely', 'different', 'agenda', 'than', 'you', 'want', 'to', 'know', 'about', 'which', 'could', 'be', 'possible', 'in', 'any', 'event', 'washington', 'is', 'broken', 'and', 'our', 'country', 'is', 'in', 'serious', 'trouble', 'and', 'total', 'disarray', 'very', 'simple', 'politicians', 'are', 'all']\n",
      "Total Tokens: 156162\n",
      "Unique Tokens: 5842\n"
     ]
    }
   ],
   "source": [
    "# clean document\n",
    "tokens = clean_doc( doc )\n",
    "tokens_unique = list( set( tokens ) )\n",
    "print( tokens[ :200 ] )\n",
    "print( 'Total Tokens: %d' % len( tokens ) )\n",
    "print( 'Unique Tokens: %d' % len( tokens_unique ) )"
   ]
  },
  {
   "cell_type": "code",
   "execution_count": null,
   "metadata": {},
   "outputs": [],
   "source": []
  },
  {
   "cell_type": "code",
   "execution_count": 5,
   "metadata": {},
   "outputs": [
    {
     "name": "stdout",
     "output_type": "stream",
     "text": [
      "Total Sequences: 156111\n"
     ]
    }
   ],
   "source": [
    "# organize into sequences of tokens\n",
    "sequence_len = 50 + 1\n",
    "sequences = list()\n",
    "\n",
    "for i in range( sequence_len, len( tokens ) ):\n",
    "    \n",
    "    # select sequence of tokens\n",
    "    seq = tokens[ i - sequence_len:i ]\n",
    "    \n",
    "    # convert into a line\n",
    "    line = ' '.join( seq )\n",
    "    \n",
    "    # store\n",
    "    sequences.append( line )\n",
    "    \n",
    "print( 'Total Sequences: %d' % len( sequences ) )\n"
   ]
  },
  {
   "cell_type": "code",
   "execution_count": 6,
   "metadata": {},
   "outputs": [],
   "source": [
    "# save tokens to file, one dialog per line\n",
    "def save_doc( lines, filename ):\n",
    "    \n",
    "    data = '\\n'.join( lines )\n",
    "    file = open( filename, 'w' )\n",
    "    file.write( data )\n",
    "    file.close()"
   ]
  },
  {
   "cell_type": "code",
   "execution_count": 7,
   "metadata": {},
   "outputs": [],
   "source": [
    "# save sequences to file\n",
    "#out_filename = \"../texts/dr-zeuss-compilation-sequences.txt\"\n",
    "out_filename = \"../texts/trump-speeches-sequences.txt\"\n",
    "save_doc( sequences, out_filename )"
   ]
  },
  {
   "cell_type": "code",
   "execution_count": 8,
   "metadata": {},
   "outputs": [
    {
     "data": {
      "text/plain": [
       "['thank you so much thats so nice isnt he a great guy he doesnt get a fair press he doesnt get it its just not fair and i have to tell you im here and very strongly here because i have great respect for steve king and have great respect likewise',\n",
       " 'you so much thats so nice isnt he a great guy he doesnt get a fair press he doesnt get it its just not fair and i have to tell you im here and very strongly here because i have great respect for steve king and have great respect likewise for',\n",
       " 'so much thats so nice isnt he a great guy he doesnt get a fair press he doesnt get it its just not fair and i have to tell you im here and very strongly here because i have great respect for steve king and have great respect likewise for citizens',\n",
       " 'much thats so nice isnt he a great guy he doesnt get a fair press he doesnt get it its just not fair and i have to tell you im here and very strongly here because i have great respect for steve king and have great respect likewise for citizens united',\n",
       " 'thats so nice isnt he a great guy he doesnt get a fair press he doesnt get it its just not fair and i have to tell you im here and very strongly here because i have great respect for steve king and have great respect likewise for citizens united david',\n",
       " 'so nice isnt he a great guy he doesnt get a fair press he doesnt get it its just not fair and i have to tell you im here and very strongly here because i have great respect for steve king and have great respect likewise for citizens united david and',\n",
       " 'nice isnt he a great guy he doesnt get a fair press he doesnt get it its just not fair and i have to tell you im here and very strongly here because i have great respect for steve king and have great respect likewise for citizens united david and everybody',\n",
       " 'isnt he a great guy he doesnt get a fair press he doesnt get it its just not fair and i have to tell you im here and very strongly here because i have great respect for steve king and have great respect likewise for citizens united david and everybody and',\n",
       " 'he a great guy he doesnt get a fair press he doesnt get it its just not fair and i have to tell you im here and very strongly here because i have great respect for steve king and have great respect likewise for citizens united david and everybody and tremendous',\n",
       " 'a great guy he doesnt get a fair press he doesnt get it its just not fair and i have to tell you im here and very strongly here because i have great respect for steve king and have great respect likewise for citizens united david and everybody and tremendous resect']"
      ]
     },
     "execution_count": 8,
     "metadata": {},
     "output_type": "execute_result"
    }
   ],
   "source": [
    "#in_filename = \"../texts/dr-zeuss-compilation-sequences.txt\"\n",
    "in_filename = \"../texts/trump-speeches-sequences.txt\"\n",
    "doc = load_doc( in_filename )\n",
    "lines = doc.split( '\\n' )\n",
    "lines[ 0:10 ]"
   ]
  },
  {
   "cell_type": "markdown",
   "metadata": {},
   "source": [
    "## Convert Words to Index Values"
   ]
  },
  {
   "cell_type": "code",
   "execution_count": 9,
   "metadata": {},
   "outputs": [],
   "source": [
    "# integer encode sequences of words\n",
    "tokenizer = Tokenizer()\n",
    "tokenizer.fit_on_texts( lines )\n",
    "sequences = tokenizer.texts_to_sequences( lines )"
   ]
  },
  {
   "cell_type": "code",
   "execution_count": 10,
   "metadata": {},
   "outputs": [
    {
     "name": "stdout",
     "output_type": "stream",
     "text": [
      "True\n",
      "156111\n"
     ]
    }
   ],
   "source": [
    "print( len( sequences[ 0 ] ) == sequence_len )\n",
    "print( len( sequences ) )"
   ]
  },
  {
   "cell_type": "code",
   "execution_count": 11,
   "metadata": {},
   "outputs": [
    {
     "name": "stdout",
     "output_type": "stream",
     "text": [
      "5842\n",
      "<class 'dict'>\n",
      "368\n"
     ]
    }
   ],
   "source": [
    "print( len( tokenizer.word_index ) )\n",
    "print( type( tokenizer.word_index ) )\n",
    "print( tokenizer.word_index[ \"terrible\" ] )"
   ]
  },
  {
   "cell_type": "code",
   "execution_count": 12,
   "metadata": {},
   "outputs": [
    {
     "data": {
      "text/plain": [
       "5843"
      ]
     },
     "execution_count": 12,
     "metadata": {},
     "output_type": "execute_result"
    }
   ],
   "source": [
    "# vocabulary size\n",
    "vocab_size = len( tokenizer.word_index ) + 1\n",
    "vocab_size"
   ]
  },
  {
   "cell_type": "code",
   "execution_count": 13,
   "metadata": {},
   "outputs": [
    {
     "data": {
      "text/plain": [
       "50"
      ]
     },
     "execution_count": 13,
     "metadata": {},
     "output_type": "execute_result"
    }
   ],
   "source": [
    "# separate into input and output: for now it's 50 words input and 1 word output\n",
    "sequences = np.array( sequences )\n",
    "X = sequences[ :,:-1 ] # all rows, from word 0 up to, but not including, the last word\n",
    "y = sequences[ :,-1 ]  # all rows, last word only\n",
    "y = to_categorical( y, num_classes=vocab_size )\n",
    "seq_length = X.shape[ 1 ]\n",
    "seq_length"
   ]
  },
  {
   "cell_type": "code",
   "execution_count": null,
   "metadata": {},
   "outputs": [],
   "source": []
  },
  {
   "cell_type": "markdown",
   "metadata": {},
   "source": [
    "## Load and Filter GloVe Data"
   ]
  },
  {
   "cell_type": "code",
   "execution_count": 14,
   "metadata": {},
   "outputs": [
    {
     "name": "stdout",
     "output_type": "stream",
     "text": [
      "****************************************************************************************************************************************************************************************************************************************************************************************************************************************************************************************************************************************************************************************************************************************************************************************************************************************************************************************************************************************************************************************************************************************************************************************************************************************************************************************************************************************************************************************************************************************************************************************************************************************************************************************************************************************************************************************************************************************************************************************************************************************************************************************************************************************************************************************************************************************************************************************************************************************************************************************************************************************************************************************************************************************************************************************************************************************************************************************************************************************************************************************************************************************************************************************************************************************************************************************************************************************************************************************************************************************************************************************************************************************************************************************************************************************************************************************************************************************************************************************************************************************************************************************************************************************************************************************************************************************************************************************************************************************************************************************************************************************************************************************************************************************************************************************************************************************************************************************************************************************************************************************************************************************************************************************************************************************************************************************************************************************************************************************************************************************************************************************************************************************************************************************************************************************************************************************************************************************************************************************************************************************************************************************************************************************************************************************************************************************************************************************************************************************************************************************************************************************************************************************************************************************************************************************************************************************************************************************************************************************************************************************************************************************************************************************************************************************************************************************************************************************************************************************************************************************************************************************************************************************************************************************************************************************************************************\n",
      "Loaded 5644 word vectors.\n",
      "\n",
      "Words not found 198.\n"
     ]
    }
   ],
   "source": [
    "# load the whole embedding into memory\n",
    "embeddings_index = dict()\n",
    "embeddings_dimension = 300 #must be 50, 100, 200, 300\n",
    "glove = open( \"../glove/glove.6B.\" + str( embeddings_dimension ) + \"d.txt\" )\n",
    "\n",
    "for line in glove:\n",
    "    \n",
    "    values = line.split()\n",
    "    # 1st string is word...\n",
    "    word = values[ 0 ]\n",
    "    \n",
    "    if word in tokens_unique:\n",
    "        \n",
    "        # ...the rest are coefficients\n",
    "        coefs = np.asarray( values[ 1: ], dtype='float32' )\n",
    "        embeddings_index[ word ] = coefs\n",
    "        print( \"*\", end=\"\" )\n",
    "    \n",
    "glove.close()\n",
    "print( '\\nLoaded %s word vectors.' % len( embeddings_index ) )\n",
    "print( '\\nWords not found %d.' % ( len( tokenizer.word_index ) - len( embeddings_index ) ) )"
   ]
  },
  {
   "cell_type": "code",
   "execution_count": null,
   "metadata": {},
   "outputs": [],
   "source": []
  },
  {
   "cell_type": "markdown",
   "metadata": {},
   "source": [
    "### Transform into Matrix Which Maps Coefs by Index"
   ]
  },
  {
   "cell_type": "code",
   "execution_count": 15,
   "metadata": {},
   "outputs": [
    {
     "name": "stdout",
     "output_type": "stream",
     "text": [
      "198\n"
     ]
    },
    {
     "data": {
      "text/plain": [
       "['selffunding',\n",
       " 'theyve',\n",
       " 'youve',\n",
       " 'beada',\n",
       " 'selfinspect',\n",
       " 'theyll',\n",
       " 'twoway',\n",
       " 'onethird',\n",
       " 'reince',\n",
       " 'lowenergy',\n",
       " 'bluecollar',\n",
       " 'ayeyeye',\n",
       " 'fbomb',\n",
       " 'obamaclinton',\n",
       " 'maralago',\n",
       " 'bigly',\n",
       " 'sixyear',\n",
       " 'escavators',\n",
       " 'nationbuilding',\n",
       " 'africanamerican',\n",
       " 'byebye',\n",
       " 'selfinspection',\n",
       " 'offmike',\n",
       " 'antiwoman',\n",
       " 'intelligencegathering',\n",
       " 'thatand',\n",
       " 'africanamericans',\n",
       " 'donaldjtrumpcom',\n",
       " 'mexicanamerican',\n",
       " 'hardhitting',\n",
       " 'braggadocious',\n",
       " 'selfpolice',\n",
       " 'komatsus',\n",
       " 'nobodys',\n",
       " 'taxexempt',\n",
       " 'indianas',\n",
       " 'fiveforone',\n",
       " 'oreilly',\n",
       " 'resect',\n",
       " 'everyones',\n",
       " 'theyd',\n",
       " 'cetain',\n",
       " 'romneycare',\n",
       " 'oneyard',\n",
       " 'threefooter',\n",
       " 'werent',\n",
       " 'clearsighted',\n",
       " 'nationstate',\n",
       " 'goodsized',\n",
       " 'airconditioner',\n",
       " 'disastertrump',\n",
       " 'nogood',\n",
       " 'peopletrump',\n",
       " 'exampletrump',\n",
       " 'brandnew',\n",
       " 'oldfashioned',\n",
       " 'wellover',\n",
       " 'trilliontrump',\n",
       " 'jobproducer',\n",
       " 'truthteller',\n",
       " 'expresident',\n",
       " 'middleincome',\n",
       " 'miniversion',\n",
       " 'lowlevel',\n",
       " 'smarttough',\n",
       " 'stronglooking',\n",
       " 'resonants',\n",
       " 'exofficials',\n",
       " 'incomptent',\n",
       " 'twentyfive',\n",
       " 'swenden',\n",
       " 'meand',\n",
       " 'friendand',\n",
       " 'hijackists',\n",
       " 'phenomenol',\n",
       " 'knifewielding',\n",
       " 'secondclass',\n",
       " 'orlandos',\n",
       " 'antiamerican',\n",
       " 'lawabiding',\n",
       " 'evergrowing',\n",
       " 'politicallycorrect',\n",
       " 'ityou',\n",
       " 'trumphe',\n",
       " 'leadingnevada',\n",
       " 'twoperson',\n",
       " 'nowand',\n",
       " 'securitybut',\n",
       " 'japanthey',\n",
       " 'showsi',\n",
       " 'gunhow',\n",
       " 'groupthey',\n",
       " 'peopleand',\n",
       " 'antiiowa',\n",
       " 'lovei',\n",
       " 'guyin',\n",
       " 'retweeted',\n",
       " 'realdonaldtrump',\n",
       " 'welleducated',\n",
       " 'underbudget',\n",
       " 'primarycaucus',\n",
       " 'informedthat',\n",
       " 'vetdogs',\n",
       " 'debatebecause',\n",
       " 'millionike',\n",
       " 'amongstand',\n",
       " 'startedi',\n",
       " 'oppositionwhat',\n",
       " 'pressi',\n",
       " 'gaveinvites',\n",
       " 'outsidego',\n",
       " 'waitlists',\n",
       " 'whyhe',\n",
       " 'landslidei',\n",
       " 'candidatewhen',\n",
       " 'thisif',\n",
       " 'halffrozen',\n",
       " 'themthis',\n",
       " 'debatesi',\n",
       " 'knowwe',\n",
       " 'betyou',\n",
       " 'landslidedoes',\n",
       " 'notesand',\n",
       " 'twoyear',\n",
       " 'nabsico',\n",
       " 'doddfrank',\n",
       " 'bewell',\n",
       " 'corruptness',\n",
       " 'countryyou',\n",
       " 'saidwhat',\n",
       " 'embargoing',\n",
       " 'sevenyearold',\n",
       " 'sevenyearsold',\n",
       " 'backtrillion',\n",
       " 'recordsetting',\n",
       " 'watchingwe',\n",
       " 'toothe',\n",
       " 'peoplebush',\n",
       " 'thereso',\n",
       " 'stateswhich',\n",
       " 'expresidents',\n",
       " 'runningthey',\n",
       " 'parttimers',\n",
       " 'nowthe',\n",
       " 'wellour',\n",
       " 'selffund',\n",
       " 'decisionsor',\n",
       " 'fantasticyou',\n",
       " 'semifairly',\n",
       " 'dday',\n",
       " 'permityou',\n",
       " 'scums',\n",
       " 'fairhaired',\n",
       " 'proisrael',\n",
       " 'lifechanging',\n",
       " 'mackeral',\n",
       " 'rollsroyce',\n",
       " 'schusters',\n",
       " 'oneminute',\n",
       " 'socialistcommunist',\n",
       " 'overbrimming',\n",
       " 'mortagage',\n",
       " 'deductability',\n",
       " 'eschelons',\n",
       " 'obselete',\n",
       " 'selffunded',\n",
       " 'ordierno',\n",
       " 'selffunder',\n",
       " 'bleh',\n",
       " 'ayeyayay',\n",
       " 'braggingly',\n",
       " 'sharons',\n",
       " 'fricking',\n",
       " 'itll',\n",
       " 'deathdefying',\n",
       " 'thirtythree',\n",
       " 'brexits',\n",
       " 'oversay',\n",
       " 'numberone',\n",
       " 'secondlowest',\n",
       " 'pences',\n",
       " 'dshtidnt',\n",
       " 'pliblg',\n",
       " 'maepgessenger',\n",
       " 'cameramans',\n",
       " 'nashltionally',\n",
       " 'kpzcompanies',\n",
       " 'thetory',\n",
       " 'thirdworld',\n",
       " 'alumisource',\n",
       " 'depressionlevel',\n",
       " 'politicianmade',\n",
       " 'upsidedown',\n",
       " 'taxfree',\n",
       " 'jobkilling',\n",
       " 'inflationadjusted',\n",
       " 'transpacificpartnership',\n",
       " 'americanproduced']"
      ]
     },
     "execution_count": 15,
     "metadata": {},
     "output_type": "execute_result"
    }
   ],
   "source": [
    "# create a weight matrix for words in training docs\n",
    "embedding_matrix = np.zeros( ( vocab_size, embeddings_dimension ) )\n",
    "missing_words = []\n",
    "\n",
    "# we need this to create empty coefficients array\n",
    "dummy_shape = embeddings_index[ \"the\" ].shape\n",
    "\n",
    "for word, i in tokenizer.word_index.items():\n",
    "    \n",
    "    embedding_vector = embeddings_index.get( word )\n",
    "    \n",
    "    # not all words in our token list are in the wikipedia 400K set!\n",
    "    if embedding_vector is None:\n",
    "        \n",
    "        # report and create empty coefficients array\n",
    "        missing_words.append( word )\n",
    "        embedding_vector = np.zeros( dummy_shape )\n",
    "        \n",
    "    embedding_matrix[ i ] = embedding_vector\n",
    "    \n",
    "print( len( missing_words ) )\n",
    "missing_words"
   ]
  },
  {
   "cell_type": "code",
   "execution_count": 16,
   "metadata": {},
   "outputs": [
    {
     "name": "stdout",
     "output_type": "stream",
     "text": [
      "300\n",
      "0.0\n"
     ]
    },
    {
     "data": {
      "text/plain": [
       "199"
      ]
     },
     "execution_count": 16,
     "metadata": {},
     "output_type": "execute_result"
    }
   ],
   "source": [
    "# confirm visually that \n",
    "print( len( embedding_matrix[ 0 ] ) )\n",
    "print( sum( embedding_matrix[ 0 ] ) )\n",
    "empty_coefficients_count = 0\n",
    "\n",
    "for i in range( len( embedding_matrix ) ):\n",
    "    if sum( embedding_matrix[ i ] ) == 0:\n",
    "        empty_coefficients_count += 1\n",
    "        \n",
    "empty_coefficients_count"
   ]
  },
  {
   "cell_type": "markdown",
   "metadata": {},
   "source": [
    "## Define Model"
   ]
  },
  {
   "cell_type": "code",
   "execution_count": 17,
   "metadata": {},
   "outputs": [
    {
     "name": "stdout",
     "output_type": "stream",
     "text": [
      "2.1.3\n",
      "1.4.1\n"
     ]
    }
   ],
   "source": [
    "import keras\n",
    "print( keras.__version__ )\n",
    "\n",
    "import tensorflow as tf\n",
    "print( tf.__version__ )"
   ]
  },
  {
   "cell_type": "code",
   "execution_count": 18,
   "metadata": {},
   "outputs": [
    {
     "name": "stdout",
     "output_type": "stream",
     "text": [
      "_________________________________________________________________\n",
      "Layer (type)                 Output Shape              Param #   \n",
      "=================================================================\n",
      "embedding_1 (Embedding)      (None, 50, 300)           1752900   \n",
      "_________________________________________________________________\n",
      "lstm_1 (LSTM)                (None, 50, 100)           160400    \n",
      "_________________________________________________________________\n",
      "lstm_2 (LSTM)                (None, 100)               80400     \n",
      "_________________________________________________________________\n",
      "dense_1 (Dense)              (None, 100)               10100     \n",
      "_________________________________________________________________\n",
      "dense_2 (Dense)              (None, 5843)              590143    \n",
      "=================================================================\n",
      "Total params: 2,593,943\n",
      "Trainable params: 2,593,943\n",
      "Non-trainable params: 0\n",
      "_________________________________________________________________\n",
      "None\n"
     ]
    }
   ],
   "source": [
    "# define model\n",
    "model = Sequential()\n",
    "\n",
    "# now using a pre-trained, non-trainable embedding from glove's wiki analysis\n",
    "model.add( Embedding( vocab_size, embeddings_dimension, weights=[embedding_matrix], input_length=seq_length, trainable=True ) )\n",
    "model.add( LSTM( seq_length * 2, return_sequences=True ) )\n",
    "model.add( LSTM( seq_length * 2 ) )\n",
    "model.add( Dense( seq_length * 2, activation='relu' ) )\n",
    "\n",
    "# fixed TypeError below, downgraded keras from 2.1.5 to 2.1.3: https://github.com/keras-team/keras/issues/9621\n",
    "# TypeError: softmax() got an unexpected keyword argument 'axis'\n",
    "model.add( Dense( vocab_size, activation='softmax' ) )\n",
    "\n",
    "print( model.summary() )"
   ]
  },
  {
   "cell_type": "markdown",
   "metadata": {},
   "source": [
    "## Fit the Model"
   ]
  },
  {
   "cell_type": "code",
   "execution_count": 19,
   "metadata": {},
   "outputs": [
    {
     "name": "stdout",
     "output_type": "stream",
     "text": [
      "1219.6171875\n",
      "151.85894941634243\n"
     ]
    }
   ],
   "source": [
    "# calc batch size\n",
    "print( len( sequences ) / 128 )\n",
    "print( len( sequences ) / 1028 )\n",
    "# Was:\n",
    "#batch_size = 128\n",
    "batch_size = 1028\n"
   ]
  },
  {
   "cell_type": "code",
   "execution_count": 41,
   "metadata": {},
   "outputs": [
    {
     "name": "stdout",
     "output_type": "stream",
     "text": [
      "Epoch 1/200\n",
      "156111/156111 [==============================] - 24s 154us/step - loss: 0.7316 - acc: 0.8152\n",
      "Epoch 2/200\n",
      "156111/156111 [==============================] - 24s 151us/step - loss: 0.7175 - acc: 0.8208\n",
      "Epoch 3/200\n",
      "156111/156111 [==============================] - 24s 151us/step - loss: 0.7092 - acc: 0.8234\n",
      "Epoch 4/200\n",
      "156111/156111 [==============================] - 24s 152us/step - loss: 0.7027 - acc: 0.8256\n",
      "Epoch 5/200\n",
      "156111/156111 [==============================] - 24s 152us/step - loss: 0.6946 - acc: 0.8280\n",
      "Epoch 6/200\n",
      "156111/156111 [==============================] - 24s 152us/step - loss: 0.7085 - acc: 0.8225\n",
      "Epoch 7/200\n",
      "156111/156111 [==============================] - 24s 152us/step - loss: 0.7143 - acc: 0.8206\n",
      "Epoch 8/200\n",
      "156111/156111 [==============================] - 24s 152us/step - loss: 0.7167 - acc: 0.8202\n",
      "Epoch 9/200\n",
      "156111/156111 [==============================] - 24s 152us/step - loss: 0.7015 - acc: 0.8245\n",
      "Epoch 10/200\n",
      "156111/156111 [==============================] - 24s 152us/step - loss: 0.6820 - acc: 0.8307\n",
      "Epoch 11/200\n",
      "156111/156111 [==============================] - 24s 152us/step - loss: 0.6780 - acc: 0.8323\n",
      "Epoch 12/200\n",
      "156111/156111 [==============================] - 24s 152us/step - loss: 0.6584 - acc: 0.8377\n",
      "Epoch 13/200\n",
      "156111/156111 [==============================] - 24s 152us/step - loss: 0.6539 - acc: 0.8391\n",
      "Epoch 14/200\n",
      "156111/156111 [==============================] - 24s 152us/step - loss: 0.6636 - acc: 0.8356\n",
      "Epoch 15/200\n",
      "156111/156111 [==============================] - 24s 152us/step - loss: 0.7048 - acc: 0.8229\n",
      "Epoch 16/200\n",
      "156111/156111 [==============================] - 24s 152us/step - loss: 0.7633 - acc: 0.8049\n",
      "Epoch 17/200\n",
      "156111/156111 [==============================] - 24s 152us/step - loss: 0.7385 - acc: 0.8122\n",
      "Epoch 18/200\n",
      "156111/156111 [==============================] - 24s 152us/step - loss: 0.7162 - acc: 0.8202\n",
      "Epoch 19/200\n",
      "156111/156111 [==============================] - 24s 152us/step - loss: 0.7029 - acc: 0.8232\n",
      "Epoch 20/200\n",
      "156111/156111 [==============================] - 24s 152us/step - loss: 0.6640 - acc: 0.8348\n",
      "Epoch 21/200\n",
      "156111/156111 [==============================] - 24s 152us/step - loss: 0.6353 - acc: 0.8439\n",
      "Epoch 22/200\n",
      "156111/156111 [==============================] - 24s 152us/step - loss: 0.6296 - acc: 0.8450\n",
      "Epoch 23/200\n",
      "156111/156111 [==============================] - 24s 152us/step - loss: 0.6261 - acc: 0.8469\n",
      "Epoch 24/200\n",
      "156111/156111 [==============================] - 24s 152us/step - loss: 0.6620 - acc: 0.8344\n",
      "Epoch 25/200\n",
      "156111/156111 [==============================] - 24s 152us/step - loss: 0.6689 - acc: 0.8329\n",
      "Epoch 26/200\n",
      "156111/156111 [==============================] - 24s 152us/step - loss: 0.6685 - acc: 0.8318\n",
      "Epoch 27/200\n",
      "156111/156111 [==============================] - 24s 152us/step - loss: 0.6565 - acc: 0.8358\n",
      "Epoch 28/200\n",
      "156111/156111 [==============================] - 24s 152us/step - loss: 0.6393 - acc: 0.8411\n",
      "Epoch 29/200\n",
      "156111/156111 [==============================] - 24s 152us/step - loss: 0.6397 - acc: 0.8404\n",
      "Epoch 30/200\n",
      "156111/156111 [==============================] - 24s 152us/step - loss: 0.6436 - acc: 0.8392\n",
      "Epoch 31/200\n",
      "156111/156111 [==============================] - 24s 152us/step - loss: 0.6682 - acc: 0.8312\n",
      "Epoch 32/200\n",
      "156111/156111 [==============================] - 24s 152us/step - loss: 0.6662 - acc: 0.8321\n",
      "Epoch 33/200\n",
      "156111/156111 [==============================] - 24s 152us/step - loss: 0.6853 - acc: 0.8263\n",
      "Epoch 34/200\n",
      "156111/156111 [==============================] - 24s 152us/step - loss: 0.6802 - acc: 0.8276\n",
      "Epoch 35/200\n",
      "156111/156111 [==============================] - 24s 152us/step - loss: 0.6565 - acc: 0.8340\n",
      "Epoch 36/200\n",
      "156111/156111 [==============================] - 24s 152us/step - loss: 0.6307 - acc: 0.8422\n",
      "Epoch 37/200\n",
      "156111/156111 [==============================] - 24s 152us/step - loss: 0.6316 - acc: 0.8418\n",
      "Epoch 38/200\n",
      "156111/156111 [==============================] - 24s 152us/step - loss: 0.6072 - acc: 0.8494\n",
      "Epoch 39/200\n",
      "156111/156111 [==============================] - 24s 152us/step - loss: 0.6032 - acc: 0.8512\n",
      "Epoch 40/200\n",
      "156111/156111 [==============================] - 24s 152us/step - loss: 0.5935 - acc: 0.8529\n",
      "Epoch 41/200\n",
      "156111/156111 [==============================] - 24s 152us/step - loss: 0.6886 - acc: 0.8254\n",
      "Epoch 42/200\n",
      "156111/156111 [==============================] - 24s 152us/step - loss: 0.7484 - acc: 0.8052\n",
      "Epoch 43/200\n",
      "156111/156111 [==============================] - 24s 152us/step - loss: 0.6980 - acc: 0.8207\n",
      "Epoch 44/200\n",
      "156111/156111 [==============================] - 24s 152us/step - loss: 0.6593 - acc: 0.8324\n",
      "Epoch 45/200\n",
      "156111/156111 [==============================] - 24s 152us/step - loss: 0.6239 - acc: 0.8431\n",
      "Epoch 46/200\n",
      "156111/156111 [==============================] - 24s 152us/step - loss: 0.6019 - acc: 0.8516\n",
      "Epoch 47/200\n",
      "156111/156111 [==============================] - 24s 152us/step - loss: 0.5881 - acc: 0.8554\n",
      "Epoch 48/200\n",
      "156111/156111 [==============================] - 24s 152us/step - loss: 0.5802 - acc: 0.8571\n",
      "Epoch 49/200\n",
      "156111/156111 [==============================] - 24s 152us/step - loss: 0.5643 - acc: 0.8620\n",
      "Epoch 50/200\n",
      "156111/156111 [==============================] - 24s 152us/step - loss: 0.5605 - acc: 0.8634\n",
      "Epoch 51/200\n",
      "156111/156111 [==============================] - 24s 152us/step - loss: 0.5773 - acc: 0.8564\n",
      "Epoch 52/200\n",
      "156111/156111 [==============================] - 24s 152us/step - loss: 0.6043 - acc: 0.8493\n",
      "Epoch 53/200\n",
      "156111/156111 [==============================] - 24s 152us/step - loss: 0.6317 - acc: 0.8381\n",
      "Epoch 54/200\n",
      "156111/156111 [==============================] - 24s 152us/step - loss: 0.6551 - acc: 0.8317\n",
      "Epoch 55/200\n",
      "156111/156111 [==============================] - 24s 152us/step - loss: 0.6671 - acc: 0.8283\n",
      "Epoch 56/200\n",
      "156111/156111 [==============================] - 24s 152us/step - loss: 0.6325 - acc: 0.8386\n",
      "Epoch 57/200\n",
      "156111/156111 [==============================] - 24s 152us/step - loss: 0.6043 - acc: 0.8481\n",
      "Epoch 58/200\n",
      "156111/156111 [==============================] - 24s 152us/step - loss: 0.5853 - acc: 0.8525\n",
      "Epoch 59/200\n",
      "156111/156111 [==============================] - 24s 152us/step - loss: 0.5812 - acc: 0.8549\n",
      "Epoch 60/200\n",
      "156111/156111 [==============================] - 24s 152us/step - loss: 0.5921 - acc: 0.8506\n",
      "Epoch 61/200\n",
      "156111/156111 [==============================] - 24s 152us/step - loss: 0.6136 - acc: 0.8445\n",
      "Epoch 62/200\n",
      "156111/156111 [==============================] - 24s 152us/step - loss: 0.6381 - acc: 0.8368\n",
      "Epoch 63/200\n",
      "156111/156111 [==============================] - 24s 152us/step - loss: 0.6477 - acc: 0.8354\n",
      "Epoch 64/200\n",
      "156111/156111 [==============================] - 24s 152us/step - loss: 0.6211 - acc: 0.8411\n",
      "Epoch 65/200\n",
      "156111/156111 [==============================] - 24s 152us/step - loss: 0.5767 - acc: 0.8557\n",
      "Epoch 66/200\n",
      "156111/156111 [==============================] - 24s 152us/step - loss: 0.5547 - acc: 0.8628\n",
      "Epoch 67/200\n",
      "156111/156111 [==============================] - 24s 153us/step - loss: 0.5438 - acc: 0.8665\n",
      "Epoch 68/200\n",
      "156111/156111 [==============================] - 24s 153us/step - loss: 0.5485 - acc: 0.8648\n",
      "Epoch 69/200\n",
      "156111/156111 [==============================] - 24s 152us/step - loss: 0.5566 - acc: 0.8613\n",
      "Epoch 70/200\n",
      "156111/156111 [==============================] - 24s 152us/step - loss: 0.5910 - acc: 0.8501\n",
      "Epoch 71/200\n",
      "156111/156111 [==============================] - 24s 152us/step - loss: 0.6097 - acc: 0.8431\n",
      "Epoch 72/200\n",
      "156111/156111 [==============================] - 24s 152us/step - loss: 0.6217 - acc: 0.8402\n",
      "Epoch 73/200\n",
      "156111/156111 [==============================] - 24s 152us/step - loss: 0.6061 - acc: 0.8446\n",
      "Epoch 74/200\n",
      "156111/156111 [==============================] - 24s 152us/step - loss: 0.5821 - acc: 0.8523\n",
      "Epoch 75/200\n",
      "156111/156111 [==============================] - 24s 152us/step - loss: 0.5724 - acc: 0.8555\n",
      "Epoch 76/200\n",
      "156111/156111 [==============================] - 24s 152us/step - loss: 0.5515 - acc: 0.8615\n",
      "Epoch 77/200\n",
      "156111/156111 [==============================] - 24s 152us/step - loss: 0.5349 - acc: 0.8670\n",
      "Epoch 78/200\n"
     ]
    },
    {
     "name": "stdout",
     "output_type": "stream",
     "text": [
      "156111/156111 [==============================] - 24s 152us/step - loss: 0.5191 - acc: 0.8716\n",
      "Epoch 79/200\n",
      "156111/156111 [==============================] - 24s 152us/step - loss: 0.5149 - acc: 0.8724\n",
      "Epoch 80/200\n",
      "156111/156111 [==============================] - 24s 152us/step - loss: 0.5230 - acc: 0.8692\n",
      "Epoch 81/200\n",
      "156111/156111 [==============================] - 24s 152us/step - loss: 0.5334 - acc: 0.8672\n",
      "Epoch 82/200\n",
      "156111/156111 [==============================] - 24s 152us/step - loss: 0.5707 - acc: 0.8539\n",
      "Epoch 83/200\n",
      "156111/156111 [==============================] - 24s 152us/step - loss: 0.6016 - acc: 0.8452\n",
      "Epoch 84/200\n",
      "156111/156111 [==============================] - 24s 152us/step - loss: 0.6370 - acc: 0.8329\n",
      "Epoch 85/200\n",
      "156111/156111 [==============================] - 24s 152us/step - loss: 0.6428 - acc: 0.8333\n",
      "Epoch 86/200\n",
      "156111/156111 [==============================] - 24s 152us/step - loss: 0.6436 - acc: 0.8317\n",
      "Epoch 87/200\n",
      "156111/156111 [==============================] - 24s 152us/step - loss: 0.5905 - acc: 0.8477\n",
      "Epoch 88/200\n",
      "156111/156111 [==============================] - 24s 152us/step - loss: 0.5446 - acc: 0.8626\n",
      "Epoch 89/200\n",
      "156111/156111 [==============================] - 24s 152us/step - loss: 0.5134 - acc: 0.8733\n",
      "Epoch 90/200\n",
      "156111/156111 [==============================] - 24s 152us/step - loss: 0.5075 - acc: 0.8752\n",
      "Epoch 91/200\n",
      "156111/156111 [==============================] - 24s 152us/step - loss: 0.5249 - acc: 0.8684\n",
      "Epoch 92/200\n",
      "156111/156111 [==============================] - 24s 152us/step - loss: 0.5574 - acc: 0.8582\n",
      "Epoch 93/200\n",
      "156111/156111 [==============================] - 24s 153us/step - loss: 0.5618 - acc: 0.8561\n",
      "Epoch 94/200\n",
      "156111/156111 [==============================] - 24s 152us/step - loss: 0.5426 - acc: 0.8619\n",
      "Epoch 95/200\n",
      "156111/156111 [==============================] - 24s 152us/step - loss: 0.5365 - acc: 0.8637\n",
      "Epoch 96/200\n",
      "156111/156111 [==============================] - 24s 152us/step - loss: 0.5402 - acc: 0.8618\n",
      "Epoch 97/200\n",
      "156111/156111 [==============================] - 24s 152us/step - loss: 0.5092 - acc: 0.8724\n",
      "Epoch 98/200\n",
      "156111/156111 [==============================] - 24s 152us/step - loss: 0.5071 - acc: 0.8735\n",
      "Epoch 99/200\n",
      "156111/156111 [==============================] - 24s 152us/step - loss: 0.5307 - acc: 0.8654\n",
      "Epoch 100/200\n",
      "156111/156111 [==============================] - 24s 152us/step - loss: 0.5589 - acc: 0.8564\n",
      "Epoch 101/200\n",
      "156111/156111 [==============================] - 24s 152us/step - loss: 0.5766 - acc: 0.8507\n",
      "Epoch 102/200\n",
      "156111/156111 [==============================] - 24s 153us/step - loss: 0.5580 - acc: 0.8569\n",
      "Epoch 103/200\n",
      "156111/156111 [==============================] - 24s 152us/step - loss: 0.5730 - acc: 0.8516\n",
      "Epoch 104/200\n",
      "156111/156111 [==============================] - 24s 153us/step - loss: 0.5585 - acc: 0.8567\n",
      "Epoch 105/200\n",
      "156111/156111 [==============================] - 24s 152us/step - loss: 0.5503 - acc: 0.8580\n",
      "Epoch 106/200\n",
      "156111/156111 [==============================] - 24s 152us/step - loss: 0.5302 - acc: 0.8657\n",
      "Epoch 107/200\n",
      "156111/156111 [==============================] - 24s 152us/step - loss: 0.4988 - acc: 0.8752\n",
      "Epoch 108/200\n",
      "156111/156111 [==============================] - 24s 152us/step - loss: 0.4843 - acc: 0.8789\n",
      "Epoch 109/200\n",
      "156111/156111 [==============================] - 24s 153us/step - loss: 0.4832 - acc: 0.8797\n",
      "Epoch 110/200\n",
      "156111/156111 [==============================] - 24s 153us/step - loss: 0.4877 - acc: 0.8781\n",
      "Epoch 111/200\n",
      "156111/156111 [==============================] - 24s 153us/step - loss: 0.5143 - acc: 0.8700\n",
      "Epoch 112/200\n",
      "156111/156111 [==============================] - 24s 153us/step - loss: 0.5399 - acc: 0.8622\n",
      "Epoch 113/200\n",
      "156111/156111 [==============================] - 24s 153us/step - loss: 0.5331 - acc: 0.8636\n",
      "Epoch 114/200\n",
      "156111/156111 [==============================] - 24s 153us/step - loss: 0.5403 - acc: 0.8608\n",
      "Epoch 115/200\n",
      "156111/156111 [==============================] - 24s 152us/step - loss: 0.5434 - acc: 0.8600\n",
      "Epoch 116/200\n",
      "156111/156111 [==============================] - 24s 153us/step - loss: 0.5288 - acc: 0.8643\n",
      "Epoch 117/200\n",
      "156111/156111 [==============================] - 24s 153us/step - loss: 0.5164 - acc: 0.8679\n",
      "Epoch 118/200\n",
      "156111/156111 [==============================] - 24s 153us/step - loss: 0.5082 - acc: 0.8702\n",
      "Epoch 119/200\n",
      "156111/156111 [==============================] - 24s 152us/step - loss: 0.5004 - acc: 0.8728\n",
      "Epoch 120/200\n",
      "156111/156111 [==============================] - 24s 153us/step - loss: 0.4953 - acc: 0.8746\n",
      "Epoch 121/200\n",
      "156111/156111 [==============================] - 24s 153us/step - loss: 0.4900 - acc: 0.8763\n",
      "Epoch 122/200\n",
      "156111/156111 [==============================] - 24s 153us/step - loss: 0.4777 - acc: 0.8808\n",
      "Epoch 123/200\n",
      "156111/156111 [==============================] - 24s 153us/step - loss: 0.5093 - acc: 0.8701\n",
      "Epoch 124/200\n",
      "156111/156111 [==============================] - 24s 152us/step - loss: 0.5054 - acc: 0.8715\n",
      "Epoch 125/200\n",
      "156111/156111 [==============================] - 24s 153us/step - loss: 0.5154 - acc: 0.8670\n",
      "Epoch 126/200\n",
      "156111/156111 [==============================] - 24s 153us/step - loss: 0.5159 - acc: 0.8675\n",
      "Epoch 127/200\n",
      "156111/156111 [==============================] - 24s 153us/step - loss: 0.5276 - acc: 0.8639\n",
      "Epoch 128/200\n",
      "156111/156111 [==============================] - 24s 153us/step - loss: 0.5426 - acc: 0.8594\n",
      "Epoch 129/200\n",
      "156111/156111 [==============================] - 24s 153us/step - loss: 0.5547 - acc: 0.8557\n",
      "Epoch 130/200\n",
      "156111/156111 [==============================] - 24s 153us/step - loss: 0.5562 - acc: 0.8554\n",
      "Epoch 131/200\n",
      "156111/156111 [==============================] - 24s 153us/step - loss: 0.5298 - acc: 0.8633\n",
      "Epoch 132/200\n",
      "156111/156111 [==============================] - 24s 153us/step - loss: 0.4927 - acc: 0.8747\n",
      "Epoch 133/200\n",
      "156111/156111 [==============================] - 24s 153us/step - loss: 0.4553 - acc: 0.8868\n",
      "Epoch 134/200\n",
      "156111/156111 [==============================] - 24s 153us/step - loss: 0.4286 - acc: 0.8951\n",
      "Epoch 135/200\n",
      "156111/156111 [==============================] - 24s 153us/step - loss: 0.4153 - acc: 0.9003\n",
      "Epoch 136/200\n",
      "156111/156111 [==============================] - 24s 153us/step - loss: 0.4141 - acc: 0.9005\n",
      "Epoch 137/200\n",
      "156111/156111 [==============================] - 24s 153us/step - loss: 0.4276 - acc: 0.8956\n",
      "Epoch 138/200\n",
      "156111/156111 [==============================] - 24s 153us/step - loss: 0.5096 - acc: 0.8682\n",
      "Epoch 139/200\n",
      "156111/156111 [==============================] - 24s 153us/step - loss: 0.6241 - acc: 0.8343\n",
      "Epoch 140/200\n",
      "156111/156111 [==============================] - 24s 153us/step - loss: 0.6635 - acc: 0.8221\n",
      "Epoch 141/200\n",
      "156111/156111 [==============================] - 24s 153us/step - loss: 0.5942 - acc: 0.8420\n",
      "Epoch 142/200\n",
      "156111/156111 [==============================] - 24s 153us/step - loss: 0.5223 - acc: 0.8634\n",
      "Epoch 143/200\n",
      "156111/156111 [==============================] - 24s 153us/step - loss: 0.4779 - acc: 0.8785\n",
      "Epoch 144/200\n",
      "156111/156111 [==============================] - 24s 153us/step - loss: 0.4299 - acc: 0.8942\n",
      "Epoch 145/200\n",
      "156111/156111 [==============================] - 24s 153us/step - loss: 0.4069 - acc: 0.9022\n",
      "Epoch 146/200\n",
      "156111/156111 [==============================] - 24s 153us/step - loss: 0.4048 - acc: 0.9015\n",
      "Epoch 147/200\n",
      "156111/156111 [==============================] - 24s 153us/step - loss: 0.3962 - acc: 0.9050\n",
      "Epoch 148/200\n",
      "156111/156111 [==============================] - 24s 153us/step - loss: 0.4132 - acc: 0.8991\n",
      "Epoch 149/200\n",
      "156111/156111 [==============================] - 24s 153us/step - loss: 0.4693 - acc: 0.8798\n",
      "Epoch 150/200\n",
      "156111/156111 [==============================] - 24s 153us/step - loss: 0.5052 - acc: 0.8677\n",
      "Epoch 151/200\n",
      "156111/156111 [==============================] - 24s 153us/step - loss: 0.5328 - acc: 0.8586\n",
      "Epoch 152/200\n",
      "156111/156111 [==============================] - 24s 153us/step - loss: 0.5570 - acc: 0.8533\n",
      "Epoch 153/200\n",
      "156111/156111 [==============================] - 24s 153us/step - loss: 0.5865 - acc: 0.8443\n",
      "Epoch 154/200\n"
     ]
    },
    {
     "name": "stdout",
     "output_type": "stream",
     "text": [
      "156111/156111 [==============================] - 24s 153us/step - loss: 0.5194 - acc: 0.8631\n",
      "Epoch 155/200\n",
      "156111/156111 [==============================] - 24s 153us/step - loss: 0.4858 - acc: 0.8748\n",
      "Epoch 156/200\n",
      "156111/156111 [==============================] - 24s 153us/step - loss: 0.4690 - acc: 0.8797\n",
      "Epoch 157/200\n",
      "156111/156111 [==============================] - 24s 153us/step - loss: 0.4639 - acc: 0.8824\n",
      "Epoch 158/200\n",
      "156111/156111 [==============================] - 24s 153us/step - loss: 0.4713 - acc: 0.8797\n",
      "Epoch 159/200\n",
      "156111/156111 [==============================] - 24s 153us/step - loss: 0.4505 - acc: 0.8849\n",
      "Epoch 160/200\n",
      "156111/156111 [==============================] - 24s 153us/step - loss: 0.4166 - acc: 0.8969\n",
      "Epoch 161/200\n",
      "156111/156111 [==============================] - 24s 153us/step - loss: 0.4162 - acc: 0.8955\n",
      "Epoch 162/200\n",
      "156111/156111 [==============================] - 24s 153us/step - loss: 0.4073 - acc: 0.8993\n",
      "Epoch 163/200\n",
      "156111/156111 [==============================] - 24s 153us/step - loss: 0.4169 - acc: 0.8961\n",
      "Epoch 164/200\n",
      "156111/156111 [==============================] - 24s 153us/step - loss: 0.4472 - acc: 0.8860\n",
      "Epoch 165/200\n",
      "156111/156111 [==============================] - 24s 153us/step - loss: 0.4778 - acc: 0.8754\n",
      "Epoch 166/200\n",
      "156111/156111 [==============================] - 24s 153us/step - loss: 0.5429 - acc: 0.8563\n",
      "Epoch 167/200\n",
      "156111/156111 [==============================] - 24s 153us/step - loss: 0.5388 - acc: 0.8571\n",
      "Epoch 168/200\n",
      "156111/156111 [==============================] - 24s 153us/step - loss: 0.5189 - acc: 0.8627\n",
      "Epoch 169/200\n",
      "156111/156111 [==============================] - 24s 153us/step - loss: 0.5113 - acc: 0.8662\n",
      "Epoch 170/200\n",
      "156111/156111 [==============================] - 24s 153us/step - loss: 0.4735 - acc: 0.8777\n",
      "Epoch 171/200\n",
      "156111/156111 [==============================] - 24s 153us/step - loss: 0.4265 - acc: 0.8924\n",
      "Epoch 172/200\n",
      "156111/156111 [==============================] - 24s 153us/step - loss: 0.3956 - acc: 0.9030\n",
      "Epoch 173/200\n",
      "156111/156111 [==============================] - 24s 153us/step - loss: 0.3838 - acc: 0.9070\n",
      "Epoch 174/200\n",
      "156111/156111 [==============================] - 24s 153us/step - loss: 0.3992 - acc: 0.9014\n",
      "Epoch 175/200\n",
      "156111/156111 [==============================] - 24s 153us/step - loss: 0.4048 - acc: 0.8988\n",
      "Epoch 176/200\n",
      "156111/156111 [==============================] - 24s 152us/step - loss: 0.4133 - acc: 0.8960\n",
      "Epoch 177/200\n",
      "156111/156111 [==============================] - 24s 152us/step - loss: 0.4277 - acc: 0.8901\n",
      "Epoch 178/200\n",
      "156111/156111 [==============================] - 24s 152us/step - loss: 0.4362 - acc: 0.8873\n",
      "Epoch 179/200\n",
      "156111/156111 [==============================] - 24s 152us/step - loss: 0.4911 - acc: 0.8697\n",
      "Epoch 180/200\n",
      "156111/156111 [==============================] - 24s 152us/step - loss: 0.5250 - acc: 0.8603\n",
      "Epoch 181/200\n",
      "156111/156111 [==============================] - 24s 153us/step - loss: 0.5149 - acc: 0.8630\n",
      "Epoch 182/200\n",
      "156111/156111 [==============================] - 24s 153us/step - loss: 0.5158 - acc: 0.8633\n",
      "Epoch 183/200\n",
      "156111/156111 [==============================] - 24s 152us/step - loss: 0.5043 - acc: 0.8668\n",
      "Epoch 184/200\n",
      "156111/156111 [==============================] - 24s 153us/step - loss: 0.4651 - acc: 0.8795\n",
      "Epoch 185/200\n",
      "156111/156111 [==============================] - 24s 153us/step - loss: 0.4295 - acc: 0.8905\n",
      "Epoch 186/200\n",
      "156111/156111 [==============================] - 24s 152us/step - loss: 0.3911 - acc: 0.9024\n",
      "Epoch 187/200\n",
      "156111/156111 [==============================] - 24s 153us/step - loss: 0.3866 - acc: 0.9053\n",
      "Epoch 188/200\n",
      "156111/156111 [==============================] - 24s 152us/step - loss: 0.4785 - acc: 0.8754\n",
      "Epoch 189/200\n",
      "156111/156111 [==============================] - 24s 152us/step - loss: 0.4725 - acc: 0.8761\n",
      "Epoch 190/200\n",
      "156111/156111 [==============================] - 24s 152us/step - loss: 0.4483 - acc: 0.8831\n",
      "Epoch 191/200\n",
      "156111/156111 [==============================] - 24s 152us/step - loss: 0.4418 - acc: 0.8850\n",
      "Epoch 192/200\n",
      "156111/156111 [==============================] - 24s 152us/step - loss: 0.4382 - acc: 0.8871\n",
      "Epoch 193/200\n",
      "156111/156111 [==============================] - 24s 152us/step - loss: 0.4314 - acc: 0.8888\n",
      "Epoch 194/200\n",
      "156111/156111 [==============================] - 24s 152us/step - loss: 0.4197 - acc: 0.8926\n",
      "Epoch 195/200\n",
      "156111/156111 [==============================] - 24s 152us/step - loss: 0.3884 - acc: 0.9034\n",
      "Epoch 196/200\n",
      "156111/156111 [==============================] - 24s 152us/step - loss: 0.4047 - acc: 0.8982\n",
      "Epoch 197/200\n",
      "156111/156111 [==============================] - 24s 152us/step - loss: 0.4612 - acc: 0.8790\n",
      "Epoch 198/200\n",
      "156111/156111 [==============================] - 24s 152us/step - loss: 0.5003 - acc: 0.8678\n",
      "Epoch 199/200\n",
      "156111/156111 [==============================] - 24s 152us/step - loss: 0.4543 - acc: 0.8806\n",
      "Epoch 200/200\n",
      "156111/156111 [==============================] - 24s 153us/step - loss: 0.4252 - acc: 0.8908\n"
     ]
    },
    {
     "data": {
      "text/plain": [
       "<keras.callbacks.History at 0x7f90d2e84358>"
      ]
     },
     "execution_count": 41,
     "metadata": {},
     "output_type": "execute_result"
    }
   ],
   "source": [
    "# compile model\n",
    "model.compile( loss='categorical_crossentropy', optimizer='adam', metrics=[ 'accuracy' ] )\n",
    "# fit model\n",
    "model.fit( X, y, batch_size=batch_size, epochs=200 )"
   ]
  },
  {
   "cell_type": "code",
   "execution_count": 42,
   "metadata": {},
   "outputs": [],
   "source": [
    "# save the model to file\n",
    "model.save( \"models/trump-speeches-02.keras\" )\n",
    "\n",
    "# save the tokenizer\n",
    "dump( tokenizer, open( \"tokenizers/trump-speeches-02.pkl\", 'wb' ) )\n",
    "\n",
    "# save embedding_matrix based on wiki embeddings, complete w/ missing coefficients array dummies\n",
    "dump( embedding_matrix, open( \"embeddings/trump-speeches-02.glove\", 'wb' ) )\n"
   ]
  },
  {
   "cell_type": "markdown",
   "metadata": {},
   "source": [
    "## Use The Model to Generate Text"
   ]
  },
  {
   "cell_type": "code",
   "execution_count": 43,
   "metadata": {},
   "outputs": [
    {
     "data": {
      "text/plain": [
       "50"
      ]
     },
     "execution_count": 43,
     "metadata": {},
     "output_type": "execute_result"
    }
   ],
   "source": [
    "seq_length = len( lines[ 0 ].split() ) - 1\n",
    "seq_length"
   ]
  },
  {
   "cell_type": "code",
   "execution_count": null,
   "metadata": {},
   "outputs": [],
   "source": []
  },
  {
   "cell_type": "code",
   "execution_count": null,
   "metadata": {},
   "outputs": [],
   "source": []
  },
  {
   "cell_type": "code",
   "execution_count": null,
   "metadata": {},
   "outputs": [],
   "source": []
  },
  {
   "cell_type": "code",
   "execution_count": 44,
   "metadata": {},
   "outputs": [],
   "source": [
    "def generate_seq( model, tokenizer, seq_length, seed_text, n_words ):\n",
    "    \n",
    "    result = list()\n",
    "    in_text = seed_text\n",
    "    \n",
    "    # generate a fixed number of words\n",
    "    for _ in range( n_words ):\n",
    "        \n",
    "        # encode the text as integer\n",
    "        encoded = tokenizer.texts_to_sequences( [ in_text ] )[ 0 ] \n",
    "        \n",
    "        # truncate sequences to a fixed length\n",
    "        encoded = pad_sequences( [ encoded ], maxlen=seq_length, truncating='pre' ) \n",
    "        \n",
    "        # predict probabilities for each word\n",
    "        yhat = model.predict_classes( encoded, verbose=0 )\n",
    "        \n",
    "        # map predicted word index to word\n",
    "        out_word = ''\n",
    "        for word, index in tokenizer.word_index.items():\n",
    "            if index == yhat:\n",
    "                out_word = word\n",
    "                break \n",
    "                \n",
    "        # append to input\n",
    "        in_text += ' ' + out_word\n",
    "        \n",
    "        result.append( out_word )\n",
    "        \n",
    "    return ' '.join( result )"
   ]
  },
  {
   "cell_type": "code",
   "execution_count": 45,
   "metadata": {},
   "outputs": [
    {
     "name": "stdout",
     "output_type": "stream",
     "text": [
      "and saying thank you very much sucker its really really crazy so we have to rebuild quickly our infrastructure of this country if we dont the other day in ohio a bridge collapsed bridges are collapsing all over the country the reports on bridges and the like are unbelievable whats happening...\n",
      "\n",
      "...with our infrastructure i go to saudi arabia i go to dubai i am doing big jobs in dubai i go to various different places i go to china i can do something in first place you go and help from hell of a lot of money worth a lot\n"
     ]
    }
   ],
   "source": [
    "# select a seed text\n",
    "seed_text = lines[ randint( 0, len( lines ) ) ]\n",
    "print( seed_text + '...\\n' )\n",
    "#print( len( seed_text.split( \" \" ) ) )\n",
    "\n",
    "# generate new text\n",
    "generated = generate_seq( model, tokenizer, seq_length, seed_text, 50 )\n",
    "print( \"...\" + generated )"
   ]
  },
  {
   "cell_type": "code",
   "execution_count": 46,
   "metadata": {},
   "outputs": [],
   "source": [
    "def generate_seq_word_by_word( model, tokenizer, seq_length, seed_text, n_words ):\n",
    "    \n",
    "    print( \"...\", end='' )\n",
    "    #result = list()\n",
    "    in_text = seed_text\n",
    "    \n",
    "    # generate a fixed number of words\n",
    "    for _ in range( n_words ):\n",
    "        \n",
    "        # encode the text as integer\n",
    "        encoded = tokenizer.texts_to_sequences( [ in_text ] )[ 0 ] \n",
    "        \n",
    "        # truncate sequences to a fixed length\n",
    "        encoded = pad_sequences( [ encoded ], maxlen=seq_length, truncating='pre' ) \n",
    "        \n",
    "        # predict probabilities for each word\n",
    "        yhat = model.predict_classes( encoded, verbose=0 )\n",
    "        \n",
    "        # map predicted word index to word\n",
    "        out_word = ''\n",
    "        for word, index in tokenizer.word_index.items():\n",
    "            if index == yhat:\n",
    "                out_word = word\n",
    "                print( word, end=' ' )\n",
    "                break \n",
    "                \n",
    "        # append to input for next iteration\n",
    "        in_text += ' ' + out_word"
   ]
  },
  {
   "cell_type": "code",
   "execution_count": 47,
   "metadata": {},
   "outputs": [
    {
     "name": "stdout",
     "output_type": "stream",
     "text": [
      "may be wrong but who i am a very honest person if somebody is going to say a little bit negative or a lot negative about me and if they happen to be republican i may choose to hit them back not always but i may choose to hit them back...\n",
      "\n",
      "...not a fan of mitt romney mitt romney lost an election he should have won and if you maybe even going to go in me "
     ]
    }
   ],
   "source": [
    "# select a seed text\n",
    "seed_text = lines[ randint( 0, len( lines ) ) ]\n",
    "print( seed_text + '...\\n' )\n",
    "\n",
    "# generate new text\n",
    "generate_seq_word_by_word( model, tokenizer, seq_length, seed_text, 25 )"
   ]
  },
  {
   "cell_type": "code",
   "execution_count": 50,
   "metadata": {},
   "outputs": [
    {
     "name": "stdout",
     "output_type": "stream",
     "text": [
      "trump walked down\n",
      "...a fortune up your company so trump is so you sit right and i just want to skip iowa i was and he said what "
     ]
    }
   ],
   "source": [
    "my_input = input()\n",
    "\n",
    "# generate new text\n",
    "generate_seq_word_by_word( model, tokenizer, seq_length, my_input, 25 )"
   ]
  },
  {
   "cell_type": "code",
   "execution_count": null,
   "metadata": {},
   "outputs": [],
   "source": []
  }
 ],
 "metadata": {
  "kernelspec": {
   "display_name": "Python 3",
   "language": "python",
   "name": "python3"
  },
  "language_info": {
   "codemirror_mode": {
    "name": "ipython",
    "version": 3
   },
   "file_extension": ".py",
   "mimetype": "text/x-python",
   "name": "python",
   "nbconvert_exporter": "python",
   "pygments_lexer": "ipython3",
   "version": "3.6.4"
  }
 },
 "nbformat": 4,
 "nbformat_minor": 2
}
